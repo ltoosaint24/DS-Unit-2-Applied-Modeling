{
  "nbformat": 4,
  "nbformat_minor": 0,
  "metadata": {
    "kernelspec": {
      "display_name": "Python 3",
      "language": "python",
      "name": "python3"
    },
    "language_info": {
      "codemirror_mode": {
        "name": "ipython",
        "version": 3
      },
      "file_extension": ".py",
      "mimetype": "text/x-python",
      "name": "python",
      "nbconvert_exporter": "python",
      "pygments_lexer": "ipython3",
      "version": "3.7.6"
    },
    "colab": {
      "name": "Loveline_toussaint LS_DS_231_assignment.ipynb",
      "provenance": [],
      "collapsed_sections": [],
      "toc_visible": true,
      "include_colab_link": true
    }
  },
  "cells": [
    {
      "cell_type": "markdown",
      "metadata": {
        "id": "view-in-github",
        "colab_type": "text"
      },
      "source": [
        "<a href=\"https://colab.research.google.com/github/ltoosaint24/DS-Unit-2-Applied-Modeling/blob/master/Loveline_toussaint_LS_DS_231_assignment.ipynb\" target=\"_parent\"><img src=\"https://colab.research.google.com/assets/colab-badge.svg\" alt=\"Open In Colab\"/></a>"
      ]
    },
    {
      "cell_type": "markdown",
      "metadata": {
        "id": "nCc3XZEyG3XV"
      },
      "source": [
        "Lambda School Data Science\n",
        "\n",
        "*Unit 2, Sprint 3, Module 1*\n",
        "\n",
        "---\n",
        "\n",
        "\n",
        "# Define ML problems\n",
        "\n",
        "You will use your portfolio project dataset for all assignments this sprint.\n",
        "\n",
        "## Assignment\n",
        "\n",
        "Complete these tasks for your project, and document your decisions.\n",
        "\n",
        "- [ ] Choose your target. Which column in your tabular dataset will you predict?\n",
        "- [ ] Is your problem regression or classification?\n",
        "- [ ] How is your target distributed?\n",
        "    - Classification: How many classes? Are the classes imbalanced?\n",
        "    - Regression: Is the target right-skewed? If so, you may want to log transform the target.\n",
        "- [ ] Choose your evaluation metric(s).\n",
        "    - Classification: Is your majority class frequency >= 50% and < 70% ? If so, you can just use accuracy if you want. Outside that range, accuracy could be misleading. What evaluation metric will you choose, in addition to or instead of accuracy?\n",
        "    - Regression: Will you use mean absolute error, root mean squared error, R^2, or other regression metrics?\n",
        "- [ ] Choose which observations you will use to train, validate, and test your model.\n",
        "    - Are some observations outliers? Will you exclude them?\n",
        "    - Will you do a random split or a time-based split?\n",
        "- [ ] Begin to clean and explore your data.\n",
        "- [ ] Begin to choose which features, if any, to exclude. Would some features \"leak\" future information?\n",
        "\n",
        "If you haven't found a dataset yet, do that today. [Review requirements for your portfolio project](https://lambdaschool.github.io/ds/unit2) and choose your dataset.\n",
        "\n",
        "Some students worry, ***what if my model isn't “good”?*** Then, [produce a detailed tribute to your wrongness. That is science!](https://twitter.com/nathanwpyle/status/1176860147223867393)"
      ]
    },
    {
      "cell_type": "code",
      "metadata": {
        "id": "TEaV5IGF-Zj4"
      },
      "source": [
        "%%capture\r\n",
        "\r\n",
        "import sys\r\n",
        "\r\n",
        "if 'google.colab' in sys.modules:\r\n",
        "  DATA_PATH = 'https://raw.githubusercontent.com/LambdaSchool/DS-Unit-2-Applied-Modeling/master/data/'\r\n",
        "  !pip install category_encoders==2.*\r\n",
        "\r\n",
        "else:\r\n",
        "  DATA_PATH = '../data/'\r\n"
      ],
      "execution_count": 3,
      "outputs": []
    },
    {
      "cell_type": "code",
      "metadata": {
        "id": "fEapHgCTro-Q"
      },
      "source": [
        "import pandas as pd\r\n",
        "pd.options.display.max_columns = None\r\n",
        "\r\n",
        "df = pd.read_csv('/content/global-demand-for-education-world-population-and-projected-growth-to-2100-by-age-group.csv')"
      ],
      "execution_count": 4,
      "outputs": []
    },
    {
      "cell_type": "code",
      "metadata": {
        "colab": {
          "base_uri": "https://localhost:8080/",
          "height": 451
        },
        "id": "Y5ShnxclsCG6",
        "outputId": "a273cf55-a74d-460e-fa72-aa0049b3da28"
      },
      "source": [
        "df.head()"
      ],
      "execution_count": 5,
      "outputs": [
        {
          "output_type": "execute_result",
          "data": {
            "text/html": [
              "<div>\n",
              "<style scoped>\n",
              "    .dataframe tbody tr th:only-of-type {\n",
              "        vertical-align: middle;\n",
              "    }\n",
              "\n",
              "    .dataframe tbody tr th {\n",
              "        vertical-align: top;\n",
              "    }\n",
              "\n",
              "    .dataframe thead th {\n",
              "        text-align: right;\n",
              "    }\n",
              "</style>\n",
              "<table border=\"1\" class=\"dataframe\">\n",
              "  <thead>\n",
              "    <tr style=\"text-align: right;\">\n",
              "      <th></th>\n",
              "      <th>Entity</th>\n",
              "      <th>Code</th>\n",
              "      <th>Year</th>\n",
              "      <th>Estimates, 1950 - 2020: Total population by broad age group, both sexes combined (thousands) - Population under age 5</th>\n",
              "      <th>Estimates, 1950 - 2020: Total population by broad age group, both sexes combined (thousands) - Population under age 15</th>\n",
              "      <th>Estimates, 1950 - 2020: Total population by broad age group, both sexes combined (thousands) - Total</th>\n",
              "      <th>Medium fertility variant, 2020 - 2100: Total population by broad age group, both sexes combined (thousands) - Population under age 5</th>\n",
              "      <th>Medium fertility variant, 2020 - 2100: Total population by broad age group, both sexes combined (thousands) - Population under age 15</th>\n",
              "      <th>Medium fertility variant, 2020 - 2100: Total population by broad age group, both sexes combined (thousands) - Total</th>\n",
              "    </tr>\n",
              "  </thead>\n",
              "  <tbody>\n",
              "    <tr>\n",
              "      <th>0</th>\n",
              "      <td>Afghanistan</td>\n",
              "      <td>AFG</td>\n",
              "      <td>1950</td>\n",
              "      <td>1291.622</td>\n",
              "      <td>3179.867</td>\n",
              "      <td>7752.117</td>\n",
              "      <td>NaN</td>\n",
              "      <td>NaN</td>\n",
              "      <td>NaN</td>\n",
              "    </tr>\n",
              "    <tr>\n",
              "      <th>1</th>\n",
              "      <td>Afghanistan</td>\n",
              "      <td>AFG</td>\n",
              "      <td>1951</td>\n",
              "      <td>1314.492</td>\n",
              "      <td>3235.425</td>\n",
              "      <td>7840.151</td>\n",
              "      <td>NaN</td>\n",
              "      <td>NaN</td>\n",
              "      <td>NaN</td>\n",
              "    </tr>\n",
              "    <tr>\n",
              "      <th>2</th>\n",
              "      <td>Afghanistan</td>\n",
              "      <td>AFG</td>\n",
              "      <td>1952</td>\n",
              "      <td>1320.099</td>\n",
              "      <td>3281.624</td>\n",
              "      <td>7935.996</td>\n",
              "      <td>NaN</td>\n",
              "      <td>NaN</td>\n",
              "      <td>NaN</td>\n",
              "    </tr>\n",
              "    <tr>\n",
              "      <th>3</th>\n",
              "      <td>Afghanistan</td>\n",
              "      <td>AFG</td>\n",
              "      <td>1953</td>\n",
              "      <td>1323.502</td>\n",
              "      <td>3327.335</td>\n",
              "      <td>8039.684</td>\n",
              "      <td>NaN</td>\n",
              "      <td>NaN</td>\n",
              "      <td>NaN</td>\n",
              "    </tr>\n",
              "    <tr>\n",
              "      <th>4</th>\n",
              "      <td>Afghanistan</td>\n",
              "      <td>AFG</td>\n",
              "      <td>1954</td>\n",
              "      <td>1333.989</td>\n",
              "      <td>3376.382</td>\n",
              "      <td>8151.316</td>\n",
              "      <td>NaN</td>\n",
              "      <td>NaN</td>\n",
              "      <td>NaN</td>\n",
              "    </tr>\n",
              "  </tbody>\n",
              "</table>\n",
              "</div>"
            ],
            "text/plain": [
              "        Entity Code  Year  \\\n",
              "0  Afghanistan  AFG  1950   \n",
              "1  Afghanistan  AFG  1951   \n",
              "2  Afghanistan  AFG  1952   \n",
              "3  Afghanistan  AFG  1953   \n",
              "4  Afghanistan  AFG  1954   \n",
              "\n",
              "   Estimates, 1950 - 2020: Total population by broad age group, both sexes combined (thousands) - Population under age 5  \\\n",
              "0                                           1291.622                                                                       \n",
              "1                                           1314.492                                                                       \n",
              "2                                           1320.099                                                                       \n",
              "3                                           1323.502                                                                       \n",
              "4                                           1333.989                                                                       \n",
              "\n",
              "   Estimates, 1950 - 2020: Total population by broad age group, both sexes combined (thousands) - Population under age 15  \\\n",
              "0                                           3179.867                                                                        \n",
              "1                                           3235.425                                                                        \n",
              "2                                           3281.624                                                                        \n",
              "3                                           3327.335                                                                        \n",
              "4                                           3376.382                                                                        \n",
              "\n",
              "   Estimates, 1950 - 2020: Total population by broad age group, both sexes combined (thousands) - Total  \\\n",
              "0                                           7752.117                                                      \n",
              "1                                           7840.151                                                      \n",
              "2                                           7935.996                                                      \n",
              "3                                           8039.684                                                      \n",
              "4                                           8151.316                                                      \n",
              "\n",
              "   Medium fertility variant, 2020 - 2100: Total population by broad age group, both sexes combined (thousands) - Population under age 5  \\\n",
              "0                                                NaN                                                                                      \n",
              "1                                                NaN                                                                                      \n",
              "2                                                NaN                                                                                      \n",
              "3                                                NaN                                                                                      \n",
              "4                                                NaN                                                                                      \n",
              "\n",
              "   Medium fertility variant, 2020 - 2100: Total population by broad age group, both sexes combined (thousands) - Population under age 15  \\\n",
              "0                                                NaN                                                                                       \n",
              "1                                                NaN                                                                                       \n",
              "2                                                NaN                                                                                       \n",
              "3                                                NaN                                                                                       \n",
              "4                                                NaN                                                                                       \n",
              "\n",
              "   Medium fertility variant, 2020 - 2100: Total population by broad age group, both sexes combined (thousands) - Total  \n",
              "0                                                NaN                                                                    \n",
              "1                                                NaN                                                                    \n",
              "2                                                NaN                                                                    \n",
              "3                                                NaN                                                                    \n",
              "4                                                NaN                                                                    "
            ]
          },
          "metadata": {
            "tags": []
          },
          "execution_count": 5
        }
      ]
    },
    {
      "cell_type": "code",
      "metadata": {
        "colab": {
          "base_uri": "https://localhost:8080/"
        },
        "id": "J0mpGadzLJom",
        "outputId": "2b0c979d-8771-4428-f0ff-2b0b354ce58a"
      },
      "source": [
        "df['Year'].value_counts()"
      ],
      "execution_count": 6,
      "outputs": [
        {
          "output_type": "execute_result",
          "data": {
            "text/plain": [
              "2047    246\n",
              "2058    246\n",
              "1994    246\n",
              "1962    246\n",
              "2091    246\n",
              "       ... \n",
              "2035    246\n",
              "2003    246\n",
              "1971    246\n",
              "2098    246\n",
              "2049    246\n",
              "Name: Year, Length: 151, dtype: int64"
            ]
          },
          "metadata": {
            "tags": []
          },
          "execution_count": 6
        }
      ]
    },
    {
      "cell_type": "code",
      "metadata": {
        "colab": {
          "base_uri": "https://localhost:8080/"
        },
        "id": "cTjrA_cjsmqG",
        "outputId": "b0ca56c3-a2d2-4591-9b7e-e9e419622cb3"
      },
      "source": [
        "df.columns"
      ],
      "execution_count": 7,
      "outputs": [
        {
          "output_type": "execute_result",
          "data": {
            "text/plain": [
              "Index(['Entity', 'Code', 'Year',\n",
              "       'Estimates, 1950 - 2020: Total population by broad age group, both sexes combined (thousands) - Population under age 5',\n",
              "       'Estimates, 1950 - 2020: Total population by broad age group, both sexes combined (thousands) - Population under age 15',\n",
              "       'Estimates, 1950 - 2020: Total population by broad age group, both sexes combined (thousands) - Total',\n",
              "       'Medium fertility variant, 2020 - 2100: Total population by broad age group, both sexes combined (thousands) - Population under age 5',\n",
              "       'Medium fertility variant, 2020 - 2100: Total population by broad age group, both sexes combined (thousands) - Population under age 15',\n",
              "       'Medium fertility variant, 2020 - 2100: Total population by broad age group, both sexes combined (thousands) - Total'],\n",
              "      dtype='object')"
            ]
          },
          "metadata": {
            "tags": []
          },
          "execution_count": 7
        }
      ]
    },
    {
      "cell_type": "code",
      "metadata": {
        "colab": {
          "base_uri": "https://localhost:8080/"
        },
        "id": "AJ0urxvysowm",
        "outputId": "7d1aec47-7da2-4eec-c551-a3e0a585c73e"
      },
      "source": [
        "df['Estimates, 1950 - 2020: Total population by broad age group, both sexes combined (thousands) - Total'].describe()"
      ],
      "execution_count": 8,
      "outputs": [
        {
          "output_type": "execute_result",
          "data": {
            "text/plain": [
              "count    1.746600e+04\n",
              "mean     1.816455e+05\n",
              "std      6.562412e+05\n",
              "min      1.376300e+01\n",
              "25%      1.540062e+03\n",
              "50%      7.158464e+03\n",
              "75%      3.890044e+04\n",
              "max      7.794799e+06\n",
              "Name: Estimates, 1950 - 2020: Total population by broad age group, both sexes combined (thousands) - Total, dtype: float64"
            ]
          },
          "metadata": {
            "tags": []
          },
          "execution_count": 8
        }
      ]
    },
    {
      "cell_type": "code",
      "metadata": {
        "colab": {
          "base_uri": "https://localhost:8080/",
          "height": 345
        },
        "id": "wBhuroL6szYs",
        "outputId": "a7b22476-9038-4605-f02a-74b612b55ceb"
      },
      "source": [
        "import seaborn as sns\r\n",
        "import matplotlib.pyplot as plt\r\n",
        "\r\n",
        "sns.distplot(df['Estimates, 1950 - 2020: Total population by broad age group, both sexes combined (thousands) - Total']);"
      ],
      "execution_count": 9,
      "outputs": [
        {
          "output_type": "stream",
          "text": [
            "/usr/local/lib/python3.6/dist-packages/seaborn/distributions.py:2557: FutureWarning: `distplot` is a deprecated function and will be removed in a future version. Please adapt your code to use either `displot` (a figure-level function with similar flexibility) or `histplot` (an axes-level function for histograms).\n",
            "  warnings.warn(msg, FutureWarning)\n"
          ],
          "name": "stderr"
        },
        {
          "output_type": "display_data",
          "data": {
            "image/png": "[encoded data removed]",
            "text/plain": [
              "<Figure size 432x288 with 1 Axes>"
            ]
          },
          "metadata": {
            "tags": [],
            "needs_background": "light"
          }
        }
      ]
    },
    {
      "cell_type": "code",
      "metadata": {
        "id": "LFJAqHkYukYb"
      },
      "source": [
        "df = df.dropna(subset =['Estimates, 1950 - 2020: Total population by broad age group, both sexes combined (thousands) - Total'])\r\n",
        "df['Estimates'] = df['Estimates, 1950 - 2020: Total population by broad age group, both sexes combined (thousands) - Total'] >= 8000"
      ],
      "execution_count": 10,
      "outputs": []
    },
    {
      "cell_type": "code",
      "metadata": {
        "colab": {
          "base_uri": "https://localhost:8080/"
        },
        "id": "_eTU2TVZyUyt",
        "outputId": "4e8dc1eb-8e8b-40d8-cc8e-4c16d6c4fde1"
      },
      "source": [
        "y = df['Estimates']\r\n",
        "y.nunique()\r\n",
        "#There is a binary classification, because of the numeric catalog of two provided in the "
      ],
      "execution_count": 11,
      "outputs": [
        {
          "output_type": "execute_result",
          "data": {
            "text/plain": [
              "2"
            ]
          },
          "metadata": {
            "tags": []
          },
          "execution_count": 11
        }
      ]
    },
    {
      "cell_type": "code",
      "metadata": {
        "colab": {
          "base_uri": "https://localhost:8080/"
        },
        "id": "qZd6lcpYyscF",
        "outputId": "c7315443-cf80-4fff-9245-33c7693bb9db"
      },
      "source": [
        "y.value_counts(normalize = True)"
      ],
      "execution_count": 12,
      "outputs": [
        {
          "output_type": "execute_result",
          "data": {
            "text/plain": [
              "False    0.520382\n",
              "True     0.479618\n",
              "Name: Estimates, dtype: float64"
            ]
          },
          "metadata": {
            "tags": []
          },
          "execution_count": 12
        }
      ]
    },
    {
      "cell_type": "code",
      "metadata": {
        "colab": {
          "base_uri": "https://localhost:8080/"
        },
        "id": "uRixpvVlyxWU",
        "outputId": "af7feaf8-81fc-42d3-c357-13867c4108c4"
      },
      "source": [
        "#Number of Estimates made within those year periods.\r\n",
        "df['Estimates, 1950 - 2020: Total population by broad age group, both sexes combined (thousands) - Total'].nunique()"
      ],
      "execution_count": 13,
      "outputs": [
        {
          "output_type": "execute_result",
          "data": {
            "text/plain": [
              "17453"
            ]
          },
          "metadata": {
            "tags": []
          },
          "execution_count": 13
        }
      ]
    },
    {
      "cell_type": "code",
      "metadata": {
        "colab": {
          "base_uri": "https://localhost:8080/"
        },
        "id": "uR2phW7NzCI9",
        "outputId": "70e29167-2c79-4044-ad81-f8af994631c6"
      },
      "source": [
        "#the Estimate values\r\n",
        "df['Estimates, 1950 - 2020: Total population by broad age group, both sexes combined (thousands) - Total'].unique()"
      ],
      "execution_count": 14,
      "outputs": [
        {
          "output_type": "execute_result",
          "data": {
            "text/plain": [
              "array([ 7752.117,  7840.151,  7935.996, ..., 14438.812, 14645.473,\n",
              "       14862.927])"
            ]
          },
          "metadata": {
            "tags": []
          },
          "execution_count": 14
        }
      ]
    },
    {
      "cell_type": "code",
      "metadata": {
        "colab": {
          "base_uri": "https://localhost:8080/"
        },
        "id": "_DPXRctQzUEv",
        "outputId": "31c7f560-a589-4403-d0fc-b2d05b7fe337"
      },
      "source": [
        "df['Entity'].nunique()"
      ],
      "execution_count": 15,
      "outputs": [
        {
          "output_type": "execute_result",
          "data": {
            "text/plain": [
              "246"
            ]
          },
          "metadata": {
            "tags": []
          },
          "execution_count": 15
        }
      ]
    },
    {
      "cell_type": "code",
      "metadata": {
        "colab": {
          "base_uri": "https://localhost:8080/"
        },
        "id": "YrIah3_OS-8I",
        "outputId": "388384c8-35eb-4095-e8cc-59a2211bddc3"
      },
      "source": [
        "yy = df['Entity']\r\n",
        "yy.nunique()"
      ],
      "execution_count": 16,
      "outputs": [
        {
          "output_type": "execute_result",
          "data": {
            "text/plain": [
              "246"
            ]
          },
          "metadata": {
            "tags": []
          },
          "execution_count": 16
        }
      ]
    },
    {
      "cell_type": "code",
      "metadata": {
        "colab": {
          "base_uri": "https://localhost:8080/"
        },
        "id": "hRv7ZYE7zpXS",
        "outputId": "f3881374-932b-407f-b82d-201802db301e"
      },
      "source": [
        "df['Entity'].unique()"
      ],
      "execution_count": 17,
      "outputs": [
        {
          "output_type": "execute_result",
          "data": {
            "text/plain": [
              "array(['Afghanistan', 'Africa', 'Albania', 'Algeria', 'Angola',\n",
              "       'Antigua and Barbuda', 'Argentina', 'Armenia', 'Aruba', 'Asia',\n",
              "       'Asia, Central', 'Australia', 'Australia & New Zealand', 'Austria',\n",
              "       'Azerbaijan', 'Bahamas', 'Bahrain', 'Bangladesh', 'Barbados',\n",
              "       'Belarus', 'Belgium', 'Belize', 'Benin', 'Bhutan', 'Bolivia',\n",
              "       'Bosnia and Herzegovina', 'Botswana', 'Brazil', 'Brunei',\n",
              "       'Bulgaria', 'Burkina Faso', 'Burundi', 'Cambodia', 'Cameroon',\n",
              "       'Canada', 'Cape Verde', 'Caribbean', 'Central African Republic',\n",
              "       'Central America', 'Central and Southern Asia', 'Chad',\n",
              "       'Channel Islands', 'Chile', 'China', 'Colombia', 'Comoros',\n",
              "       'Congo', 'Costa Rica', \"Cote d'Ivoire\", 'Croatia', 'Cuba',\n",
              "       'Curacao', 'Cyprus', 'Czech Republic',\n",
              "       'Democratic Republic of Congo', 'Denmark', 'Djibouti',\n",
              "       'Dominican Republic', 'Eastern Africa', 'Eastern Asia',\n",
              "       'Eastern Europe', 'Eastern and South-Eastern Asia', 'Ecuador',\n",
              "       'Egypt', 'El Salvador', 'Equatorial Guinea', 'Eritrea', 'Estonia',\n",
              "       'Ethiopia', 'Europe', 'Europe and Northern America',\n",
              "       'Europe, Western', 'Fiji', 'Finland', 'France', 'French Guiana',\n",
              "       'French Polynesia', 'Gabon', 'Gambia', 'Georgia', 'Germany',\n",
              "       'Ghana', 'Greece', 'Grenada', 'Guadeloupe', 'Guam', 'Guatemala',\n",
              "       'Guinea', 'Guinea-Bissau', 'Guyana', 'Haiti',\n",
              "       'High income countries', 'Honduras', 'Hong Kong', 'Hungary',\n",
              "       'Iceland', 'India', 'Indonesia', 'Iran', 'Iraq', 'Ireland',\n",
              "       'Israel', 'Italy', 'Jamaica', 'Japan', 'Jordan', 'Kazakhstan',\n",
              "       'Kenya', 'Kiribati', 'Kuwait', 'Kyrgyzstan',\n",
              "       'Land-locked Developing Countries (LLDC)', 'Laos',\n",
              "       'Latin America and the Caribbean', 'Latvia',\n",
              "       'Least Developed Countries', 'Lebanon', 'Lesotho',\n",
              "       'Less Developed Regions',\n",
              "       'Less Developed Regions, excluding China',\n",
              "       'Less Developed Regions, excluding Least Developed Countries',\n",
              "       'Liberia', 'Libya', 'Lithuania', 'Low-income countries',\n",
              "       'Lower-middle-income countries', 'Luxembourg', 'Macao',\n",
              "       'Macedonia', 'Madagascar', 'Malawi', 'Malaysia', 'Maldives',\n",
              "       'Mali', 'Malta', 'Martinique', 'Mauritania', 'Mauritius',\n",
              "       'Mayotte', 'Melanesia', 'Mexico', 'Micronesia (country)',\n",
              "       'Middle Africa', 'Middle-income countries', 'Moldova', 'Mongolia',\n",
              "       'Montenegro', 'More Developed Regions', 'Morocco', 'Mozambique',\n",
              "       'Myanmar', 'Namibia', 'Nepal', 'Netherlands', 'New Caledonia',\n",
              "       'New Zealand', 'Nicaragua', 'Niger', 'Nigeria',\n",
              "       'No income group available', 'North Korea', 'Northern Africa',\n",
              "       'Northern Africa and Western Asia', 'Northern America',\n",
              "       'Northern Europe', 'Norway', 'Oceania',\n",
              "       'Oceania (excluding Australia and New Zealand)', 'Oman',\n",
              "       'Pakistan', 'Palestine', 'Panama', 'Papua New Guinea', 'Paraguay',\n",
              "       'Peru', 'Philippines', 'Poland', 'Portugal', 'Puerto Rico',\n",
              "       'Qatar', 'Reunion', 'Romania', 'Russia', 'Rwanda', 'Saint Lucia',\n",
              "       'Saint Vincent and the Grenadines', 'Samoa',\n",
              "       'Sao Tome and Principe', 'Saudi Arabia', 'Senegal', 'Serbia',\n",
              "       'Seychelles', 'Sierra Leone', 'Singapore', 'Slovakia', 'Slovenia',\n",
              "       'Small Island Developing States (SIDS)', 'Solomon Islands',\n",
              "       'Somalia', 'South Africa', 'South America', 'South Eastern Asia',\n",
              "       'South Korea', 'South Sudan', 'Southern Africa', 'Southern Asia',\n",
              "       'Southern Europe', 'Spain', 'Sri Lanka', 'Sub-Saharan Africa',\n",
              "       'Sudan', 'Suriname', 'Swaziland', 'Sweden', 'Switzerland', 'Syria',\n",
              "       'Taiwan', 'Tajikistan', 'Tanzania', 'Thailand', 'Timor', 'Togo',\n",
              "       'Tonga', 'Trinidad and Tobago', 'Tunisia', 'Turkey',\n",
              "       'Turkmenistan', 'Uganda', 'Ukraine', 'United Arab Emirates',\n",
              "       'United Kingdom', 'United States', 'United States Virgin Islands',\n",
              "       'Upper-middle-income countries', 'Uruguay', 'Uzbekistan',\n",
              "       'Vanuatu', 'Venezuela', 'Vietnam', 'Western Africa',\n",
              "       'Western Asia', 'Western Sahara', 'World', 'Yemen', 'Zambia',\n",
              "       'Zimbabwe'], dtype=object)"
            ]
          },
          "metadata": {
            "tags": []
          },
          "execution_count": 17
        }
      ]
    },
    {
      "cell_type": "code",
      "metadata": {
        "colab": {
          "base_uri": "https://localhost:8080/"
        },
        "id": "9JLQfMNRGNs4",
        "outputId": "02f760b2-afd0-4c2b-a2d8-757ca6370ebd"
      },
      "source": [
        "df['Entity'] = df['Entity'].str.lower()\r\n",
        "df['Entity'].nunique()"
      ],
      "execution_count": 18,
      "outputs": [
        {
          "output_type": "execute_result",
          "data": {
            "text/plain": [
              "246"
            ]
          },
          "metadata": {
            "tags": []
          },
          "execution_count": 18
        }
      ]
    },
    {
      "cell_type": "code",
      "metadata": {
        "id": "lSBLBl_B3gJK"
      },
      "source": [
        "upperMedian = df['Entity'].str.contains('Upper-middle-income countries')\r\n",
        "LowerMedian = df['Entity'].str.contains('Lower-middle-income-countries')\r\n",
        "NoIncome = df['Entity'].str.contains('No income group available')\r\n",
        "LessDevelop = df['Entity'].str.contains('Less Develop Region')\r\n",
        "leastDevelop = df['Entity'].str.contains('Least Develop Countries' )\r\n"
      ],
      "execution_count": 19,
      "outputs": []
    },
    {
      "cell_type": "code",
      "metadata": {
        "id": "CqqyY2lgIg_9"
      },
      "source": [
        "upperMedial = df['Estimates, 1950 - 2020: Total population by broad age group, both sexes combined (thousands) - Total'] >= 8000\r\n",
        "lowerMedial = df['Estimates, 1950 - 2020: Total population by broad age group, both sexes combined (thousands) - Total'] <= 5000\r\n",
        "Medial = df['Estimates, 1950 - 2020: Total population by broad age group, both sexes combined (thousands) - Total'] == 5000"
      ],
      "execution_count": 20,
      "outputs": []
    },
    {
      "cell_type": "code",
      "metadata": {
        "colab": {
          "base_uri": "https://localhost:8080/"
        },
        "id": "M-F2GvDM7Dbd",
        "outputId": "560dc725-95ea-431c-df2e-b6a237cb7657"
      },
      "source": [
        "df.loc[upperMedial, 'EntityII'] = 'Upper Median'\r\n",
        "df.loc[lowerMedial,'EntityII'] = 'Lower Median'\r\n",
        "df.loc[Medial, 'EntityII'] = 'Median'\r\n",
        "\r\n",
        "#This is recateorize of Entity based on Estimate values \r\n",
        "df['EntityII'].value_counts()"
      ],
      "execution_count": 21,
      "outputs": [
        {
          "output_type": "execute_result",
          "data": {
            "text/plain": [
              "Upper Median    8377\n",
              "Lower Median    7631\n",
              "Name: EntityII, dtype: int64"
            ]
          },
          "metadata": {
            "tags": []
          },
          "execution_count": 21
        }
      ]
    },
    {
      "cell_type": "code",
      "metadata": {
        "id": "pgGWz9sX8v1G"
      },
      "source": [
        "df = df.drop(columns = ['Medium fertility variant, 2020 - 2100: Total population by broad age group, both sexes combined (thousands) - Population under age 5',\r\n",
        "       'Medium fertility variant, 2020 - 2100: Total population by broad age group, both sexes combined (thousands) - Population under age 15',\r\n",
        "       'Medium fertility variant, 2020 - 2100: Total population by broad age group, both sexes combined (thousands) - Total'])"
      ],
      "execution_count": 22,
      "outputs": []
    },
    {
      "cell_type": "code",
      "metadata": {
        "colab": {
          "base_uri": "https://localhost:8080/"
        },
        "id": "6TPGF-Jc9pZq",
        "outputId": "173bd5f0-ce47-4998-9874-cd4b1612891b"
      },
      "source": [
        "df.isna().sum().sort_values()"
      ],
      "execution_count": 23,
      "outputs": [
        {
          "output_type": "execute_result",
          "data": {
            "text/plain": [
              "Entity                                                                                                                       0\n",
              "Year                                                                                                                         0\n",
              "Estimates, 1950 - 2020: Total population by broad age group, both sexes combined (thousands) - Population under age 5        0\n",
              "Estimates, 1950 - 2020: Total population by broad age group, both sexes combined (thousands) - Population under age 15       0\n",
              "Estimates, 1950 - 2020: Total population by broad age group, both sexes combined (thousands) - Total                         0\n",
              "Estimates                                                                                                                    0\n",
              "EntityII                                                                                                                  1458\n",
              "Code                                                                                                                      3053\n",
              "dtype: int64"
            ]
          },
          "metadata": {
            "tags": []
          },
          "execution_count": 23
        }
      ]
    },
    {
      "cell_type": "code",
      "metadata": {
        "colab": {
          "base_uri": "https://localhost:8080/"
        },
        "id": "urxXka68AypB",
        "outputId": "965afc47-5ecf-421c-9eef-33af2bedd358"
      },
      "source": [
        "df['Code'].dtypes"
      ],
      "execution_count": 24,
      "outputs": [
        {
          "output_type": "execute_result",
          "data": {
            "text/plain": [
              "dtype('O')"
            ]
          },
          "metadata": {
            "tags": []
          },
          "execution_count": 24
        }
      ]
    },
    {
      "cell_type": "code",
      "metadata": {
        "id": "KSaMuGxx92X5"
      },
      "source": [
        "#Filling in the missing value for the Code\r\n",
        "# The function should subscript the Entity logs into 3 character code\r\n",
        "def codeFill(entiti):\r\n",
        " for x in range(len(entiti)):\r\n",
        "   for y in entiti:\r\n",
        "    ent = y\r\n",
        "    coder = ent[:3]\r\n",
        " return coder"
      ],
      "execution_count": 25,
      "outputs": []
    },
    {
      "cell_type": "code",
      "metadata": {
        "id": "nXcMn0MQ-qRx"
      },
      "source": [
        "df = df.fillna('MIS') #This filler is used to inicate a Missing Code"
      ],
      "execution_count": 26,
      "outputs": []
    },
    {
      "cell_type": "code",
      "metadata": {
        "colab": {
          "base_uri": "https://localhost:8080/"
        },
        "id": "fUI8h1rCCkLN",
        "outputId": "2153051c-a83c-4134-9a44-d12118bd41eb"
      },
      "source": [
        "df.isna().sum().sort_values()"
      ],
      "execution_count": 27,
      "outputs": [
        {
          "output_type": "execute_result",
          "data": {
            "text/plain": [
              "Entity                                                                                                                    0\n",
              "Code                                                                                                                      0\n",
              "Year                                                                                                                      0\n",
              "Estimates, 1950 - 2020: Total population by broad age group, both sexes combined (thousands) - Population under age 5     0\n",
              "Estimates, 1950 - 2020: Total population by broad age group, both sexes combined (thousands) - Population under age 15    0\n",
              "Estimates, 1950 - 2020: Total population by broad age group, both sexes combined (thousands) - Total                      0\n",
              "Estimates                                                                                                                 0\n",
              "EntityII                                                                                                                  0\n",
              "dtype: int64"
            ]
          },
          "metadata": {
            "tags": []
          },
          "execution_count": 27
        }
      ]
    },
    {
      "cell_type": "code",
      "metadata": {
        "colab": {
          "base_uri": "https://localhost:8080/"
        },
        "id": "qVZu2wCXDere",
        "outputId": "681f283a-c957-4b48-d939-98f04574cba2"
      },
      "source": [
        "import datetime\r\n",
        "import numpy as numy\r\n",
        "df['Year'].dtype\r\n"
      ],
      "execution_count": 28,
      "outputs": [
        {
          "output_type": "execute_result",
          "data": {
            "text/plain": [
              "dtype('int64')"
            ]
          },
          "metadata": {
            "tags": []
          },
          "execution_count": 28
        }
      ]
    },
    {
      "cell_type": "code",
      "metadata": {
        "colab": {
          "base_uri": "https://localhost:8080/",
          "height": 97
        },
        "id": "KO5aNuB5ED6u",
        "outputId": "167591c0-4f8b-4bb3-d0d0-da75ec5359cd"
      },
      "source": [
        "df[df['Year'] == 'Other']"
      ],
      "execution_count": 29,
      "outputs": [
        {
          "output_type": "execute_result",
          "data": {
            "text/html": [
              "<div>\n",
              "<style scoped>\n",
              "    .dataframe tbody tr th:only-of-type {\n",
              "        vertical-align: middle;\n",
              "    }\n",
              "\n",
              "    .dataframe tbody tr th {\n",
              "        vertical-align: top;\n",
              "    }\n",
              "\n",
              "    .dataframe thead th {\n",
              "        text-align: right;\n",
              "    }\n",
              "</style>\n",
              "<table border=\"1\" class=\"dataframe\">\n",
              "  <thead>\n",
              "    <tr style=\"text-align: right;\">\n",
              "      <th></th>\n",
              "      <th>Entity</th>\n",
              "      <th>Code</th>\n",
              "      <th>Year</th>\n",
              "      <th>Estimates, 1950 - 2020: Total population by broad age group, both sexes combined (thousands) - Population under age 5</th>\n",
              "      <th>Estimates, 1950 - 2020: Total population by broad age group, both sexes combined (thousands) - Population under age 15</th>\n",
              "      <th>Estimates, 1950 - 2020: Total population by broad age group, both sexes combined (thousands) - Total</th>\n",
              "      <th>Estimates</th>\n",
              "      <th>EntityII</th>\n",
              "    </tr>\n",
              "  </thead>\n",
              "  <tbody>\n",
              "  </tbody>\n",
              "</table>\n",
              "</div>"
            ],
            "text/plain": [
              "Empty DataFrame\n",
              "Columns: [Entity, Code, Year, Estimates, 1950 - 2020: Total population by broad age group, both sexes combined (thousands) - Population under age 5, Estimates, 1950 - 2020: Total population by broad age group, both sexes combined (thousands) - Population under age 15, Estimates, 1950 - 2020: Total population by broad age group, both sexes combined (thousands) - Total, Estimates, EntityII]\n",
              "Index: []"
            ]
          },
          "metadata": {
            "tags": []
          },
          "execution_count": 29
        }
      ]
    },
    {
      "cell_type": "code",
      "metadata": {
        "id": "hcSv_2MuCsLE"
      },
      "source": [
        "df['Year'] = pd.to_datetime(df['Year']) #The year was shifted  into dateetime object"
      ],
      "execution_count": 30,
      "outputs": []
    },
    {
      "cell_type": "code",
      "metadata": {
        "id": "RLV2uJ-tDH3G"
      },
      "source": [
        "train = df[df['Year'].dt.year <=1970]\r\n",
        "val = df[df['Year'].dt.year == 1970]\r\n",
        "test = df[df['Year'].dt.year >=1950]"
      ],
      "execution_count": 31,
      "outputs": []
    },
    {
      "cell_type": "code",
      "metadata": {
        "colab": {
          "base_uri": "https://localhost:8080/"
        },
        "id": "erFDfm_FKgTE",
        "outputId": "d2802dad-4cbc-4de9-af03-5d01ab08b701"
      },
      "source": [
        "train.shape, val.shape, test.shape"
      ],
      "execution_count": 32,
      "outputs": [
        {
          "output_type": "execute_result",
          "data": {
            "text/plain": [
              "((17466, 8), (17466, 8), (17466, 8))"
            ]
          },
          "metadata": {
            "tags": []
          },
          "execution_count": 32
        }
      ]
    },
    {
      "cell_type": "code",
      "metadata": {
        "colab": {
          "base_uri": "https://localhost:8080/"
        },
        "id": "5VHZflp1Ml2o",
        "outputId": "9becaefc-93a0-4163-c147-9b0d63bf2f05"
      },
      "source": [
        "import category_encoders as cre \r\n",
        "from sklearn.pipeline import make_pipeline \r\n",
        "from sklearn.tree import DecisionTreeClassifier\r\n",
        "\r\n",
        "target = 'Entity'\r\n",
        "features = train.columns.drop([target,'Year'])\r\n",
        "\r\n",
        "X_train = train[features]\r\n",
        "y_train = train[target]\r\n",
        "X_val = val[features]\r\n",
        "y_val = val[target]\r\n",
        "\r\n",
        "pipeline = make_pipeline(\r\n",
        "    cre.OrdinalEncoder(),\r\n",
        "    DecisionTreeClassifier(max_depth = 3)   \r\n",
        ")\r\n",
        "\r\n",
        "pipeline.fit(X_train, y_train)\r\n",
        "print('Validation Accuracy', pipeline.score(X_val, y_val))\r\n",
        "#The values were split and organized according to Entity and Estimate prices, there was an\r\n",
        "# accuracy value of 2.03%"
      ],
      "execution_count": 33,
      "outputs": [
        {
          "output_type": "stream",
          "text": [
            "/usr/local/lib/python3.6/dist-packages/statsmodels/tools/_testing.py:19: FutureWarning: pandas.util.testing is deprecated. Use the functions in the public API at pandas.testing instead.\n",
            "  import pandas.util.testing as tm\n"
          ],
          "name": "stderr"
        },
        {
          "output_type": "stream",
          "text": [
            "Validation Accuracy 0.02032520325203252\n"
          ],
          "name": "stdout"
        }
      ]
    },
    {
      "cell_type": "code",
      "metadata": {
        "colab": {
          "base_uri": "https://localhost:8080/",
          "height": 1000
        },
        "id": "ZF4VXGzbQT21",
        "outputId": "d8f6114b-7104-41ea-a2ba-dc66097b812e"
      },
      "source": [
        "import graphviz\r\n",
        "from sklearn.tree import export_graphviz\r\n",
        "\r\n",
        "tree = pipeline.named_steps['decisiontreeclassifier']\r\n",
        "\r\n",
        "\r\n",
        "dot_data = export_graphviz(\r\n",
        "    tree,\r\n",
        "    out_file = None,\r\n",
        "    feature_names = X_train.columns,\r\n",
        "    class_names = y_train.unique().astype(str),\r\n",
        "    filled = True,\r\n",
        "    impurity = False,\r\n",
        "    proportion = True\r\n",
        ")\r\n",
        "\r\n",
        "graphviz.Source(dot_data)"
      ],
      "execution_count": 34,
      "outputs": [
        {
          "output_type": "execute_result",
          "data": {
            "text/plain": [
              "<graphviz.files.Source at 0x7eff6cd4bbe0>"
            ],
            "image/svg+xml": "<?xml version=\"1.0\" encoding=\"UTF-8\" standalone=\"no\"?>\n<!DOCTYPE svg PUBLIC \"-//W3C//DTD SVG 1.1//EN\"\n \"http://www.w3.org/Graphics/SVG/1.1/DTD/svg11.dtd\">\n<!-- Generated by graphviz version 2.40.1 (20161225.0304)\n -->\n<!-- Title: Tree Pages: 1 -->\n<svg width=\"1638pt\" height=\"2173pt\"\n viewBox=\"0.00 0.00 1638.00 2173.00\" xmlns=\"http://www.w3.org/2000/svg\" xmlns:xlink=\"http://www.w3.org/1999/xlink\">\n<g id=\"graph0\" class=\"graph\" transform=\"scale(1 1) rotate(0) translate(4 2169)\">\n<title>Tree</title>\n<polygon fill=\"#ffffff\" stroke=\"transparent\" points=\"-4,4 -4,-2169 1634,-2169 1634,4 -4,4\"/>\n<!-- 0 -->\n<g id=\"node1\" class=\"node\">\n<title>0</title>\n<polygon fill=\"#ffffff\" stroke=\"#000000\" points=\"820.5,-2165 430.5,-2165 430.5,-1647 820.5,-1647 820.5,-2165\"/>\n<text text-anchor=\"middle\" x=\"625.5\" y=\"-2149.8\" font-family=\"Times,serif\" font-size=\"14.00\" fill=\"#000000\">Code &lt;= 1.5</text>\n<text text-anchor=\"middle\" x=\"625.5\" y=\"-2134.8\" font-family=\"Times,serif\" font-size=\"14.00\" fill=\"#000000\">samples = 100.0%</text>\n<text text-anchor=\"middle\" x=\"625.5\" y=\"-2119.8\" font-family=\"Times,serif\" font-size=\"14.00\" fill=\"#000000\">value = [0.004, 0.004, 0.004, 0.004, 0.004, 0.004, 0.004, 0.004</text>\n<text text-anchor=\"middle\" x=\"625.5\" y=\"-2104.8\" font-family=\"Times,serif\" font-size=\"14.00\" fill=\"#000000\">0.004, 0.004, 0.004, 0.004, 0.004, 0.004, 0.004, 0.004</text>\n<text text-anchor=\"middle\" x=\"625.5\" y=\"-2089.8\" font-family=\"Times,serif\" font-size=\"14.00\" fill=\"#000000\">0.004, 0.004, 0.004, 0.004, 0.004, 0.004, 0.004, 0.004</text>\n<text text-anchor=\"middle\" x=\"625.5\" y=\"-2074.8\" font-family=\"Times,serif\" font-size=\"14.00\" fill=\"#000000\">0.004, 0.004, 0.004, 0.004, 0.004, 0.004, 0.004, 0.004</text>\n<text text-anchor=\"middle\" x=\"625.5\" y=\"-2059.8\" font-family=\"Times,serif\" font-size=\"14.00\" fill=\"#000000\">0.004, 0.004, 0.004, 0.004, 0.004, 0.004, 0.004, 0.004</text>\n<text text-anchor=\"middle\" x=\"625.5\" y=\"-2044.8\" font-family=\"Times,serif\" font-size=\"14.00\" fill=\"#000000\">0.004, 0.004, 0.004, 0.004, 0.004, 0.004, 0.004, 0.004</text>\n<text text-anchor=\"middle\" x=\"625.5\" y=\"-2029.8\" font-family=\"Times,serif\" font-size=\"14.00\" fill=\"#000000\">0.004, 0.004, 0.004, 0.004, 0.004, 0.004, 0.004, 0.004</text>\n<text text-anchor=\"middle\" x=\"625.5\" y=\"-2014.8\" font-family=\"Times,serif\" font-size=\"14.00\" fill=\"#000000\">0.004, 0.004, 0.004, 0.004, 0.004, 0.004, 0.004, 0.004</text>\n<text text-anchor=\"middle\" x=\"625.5\" y=\"-1999.8\" font-family=\"Times,serif\" font-size=\"14.00\" fill=\"#000000\">0.004, 0.004, 0.004, 0.004, 0.004, 0.004, 0.004, 0.004</text>\n<text text-anchor=\"middle\" x=\"625.5\" y=\"-1984.8\" font-family=\"Times,serif\" font-size=\"14.00\" fill=\"#000000\">0.004, 0.004, 0.004, 0.004, 0.004, 0.004, 0.004, 0.004</text>\n<text text-anchor=\"middle\" x=\"625.5\" y=\"-1969.8\" font-family=\"Times,serif\" font-size=\"14.00\" fill=\"#000000\">0.004, 0.004, 0.004, 0.004, 0.004, 0.004, 0.004, 0.004</text>\n<text text-anchor=\"middle\" x=\"625.5\" y=\"-1954.8\" font-family=\"Times,serif\" font-size=\"14.00\" fill=\"#000000\">0.004, 0.004, 0.004, 0.004, 0.004, 0.004, 0.004, 0.004</text>\n<text text-anchor=\"middle\" x=\"625.5\" y=\"-1939.8\" font-family=\"Times,serif\" font-size=\"14.00\" fill=\"#000000\">0.004, 0.004, 0.004, 0.004, 0.004, 0.004, 0.004, 0.004</text>\n<text text-anchor=\"middle\" x=\"625.5\" y=\"-1924.8\" font-family=\"Times,serif\" font-size=\"14.00\" fill=\"#000000\">0.004, 0.004, 0.004, 0.004, 0.004, 0.004, 0.004, 0.004</text>\n<text text-anchor=\"middle\" x=\"625.5\" y=\"-1909.8\" font-family=\"Times,serif\" font-size=\"14.00\" fill=\"#000000\">0.004, 0.004, 0.004, 0.004, 0.004, 0.004, 0.004, 0.004</text>\n<text text-anchor=\"middle\" x=\"625.5\" y=\"-1894.8\" font-family=\"Times,serif\" font-size=\"14.00\" fill=\"#000000\">0.004, 0.004, 0.004, 0.004, 0.004, 0.004, 0.004, 0.004</text>\n<text text-anchor=\"middle\" x=\"625.5\" y=\"-1879.8\" font-family=\"Times,serif\" font-size=\"14.00\" fill=\"#000000\">0.004, 0.004, 0.004, 0.004, 0.004, 0.004, 0.004, 0.004</text>\n<text text-anchor=\"middle\" x=\"625.5\" y=\"-1864.8\" font-family=\"Times,serif\" font-size=\"14.00\" fill=\"#000000\">0.004, 0.004, 0.004, 0.004, 0.004, 0.004, 0.004, 0.004</text>\n<text text-anchor=\"middle\" x=\"625.5\" y=\"-1849.8\" font-family=\"Times,serif\" font-size=\"14.00\" fill=\"#000000\">0.004, 0.004, 0.004, 0.004, 0.004, 0.004, 0.004, 0.004</text>\n<text text-anchor=\"middle\" x=\"625.5\" y=\"-1834.8\" font-family=\"Times,serif\" font-size=\"14.00\" fill=\"#000000\">0.004, 0.004, 0.004, 0.004, 0.004, 0.004, 0.004, 0.004</text>\n<text text-anchor=\"middle\" x=\"625.5\" y=\"-1819.8\" font-family=\"Times,serif\" font-size=\"14.00\" fill=\"#000000\">0.004, 0.004, 0.004, 0.004, 0.004, 0.004, 0.004, 0.004</text>\n<text text-anchor=\"middle\" x=\"625.5\" y=\"-1804.8\" font-family=\"Times,serif\" font-size=\"14.00\" fill=\"#000000\">0.004, 0.004, 0.004, 0.004, 0.004, 0.004, 0.004, 0.004</text>\n<text text-anchor=\"middle\" x=\"625.5\" y=\"-1789.8\" font-family=\"Times,serif\" font-size=\"14.00\" fill=\"#000000\">0.004, 0.004, 0.004, 0.004, 0.004, 0.004, 0.004, 0.004</text>\n<text text-anchor=\"middle\" x=\"625.5\" y=\"-1774.8\" font-family=\"Times,serif\" font-size=\"14.00\" fill=\"#000000\">0.004, 0.004, 0.004, 0.004, 0.004, 0.004, 0.004, 0.004</text>\n<text text-anchor=\"middle\" x=\"625.5\" y=\"-1759.8\" font-family=\"Times,serif\" font-size=\"14.00\" fill=\"#000000\">0.004, 0.004, 0.004, 0.004, 0.004, 0.004, 0.004, 0.004</text>\n<text text-anchor=\"middle\" x=\"625.5\" y=\"-1744.8\" font-family=\"Times,serif\" font-size=\"14.00\" fill=\"#000000\">0.004, 0.004, 0.004, 0.004, 0.004, 0.004, 0.004, 0.004</text>\n<text text-anchor=\"middle\" x=\"625.5\" y=\"-1729.8\" font-family=\"Times,serif\" font-size=\"14.00\" fill=\"#000000\">0.004, 0.004, 0.004, 0.004, 0.004, 0.004, 0.004, 0.004</text>\n<text text-anchor=\"middle\" x=\"625.5\" y=\"-1714.8\" font-family=\"Times,serif\" font-size=\"14.00\" fill=\"#000000\">0.004, 0.004, 0.004, 0.004, 0.004, 0.004, 0.004, 0.004</text>\n<text text-anchor=\"middle\" x=\"625.5\" y=\"-1699.8\" font-family=\"Times,serif\" font-size=\"14.00\" fill=\"#000000\">0.004, 0.004, 0.004, 0.004, 0.004, 0.004, 0.004, 0.004</text>\n<text text-anchor=\"middle\" x=\"625.5\" y=\"-1684.8\" font-family=\"Times,serif\" font-size=\"14.00\" fill=\"#000000\">0.004, 0.004, 0.004, 0.004, 0.004, 0.004, 0.004, 0.004</text>\n<text text-anchor=\"middle\" x=\"625.5\" y=\"-1669.8\" font-family=\"Times,serif\" font-size=\"14.00\" fill=\"#000000\">0.004, 0.004, 0.004, 0.004, 0.004, 0.004]</text>\n<text text-anchor=\"middle\" x=\"625.5\" y=\"-1654.8\" font-family=\"Times,serif\" font-size=\"14.00\" fill=\"#000000\">class = afghanistan</text>\n</g>\n<!-- 1 -->\n<g id=\"node2\" class=\"node\">\n<title>1</title>\n<polygon fill=\"#e58139\" stroke=\"#000000\" points=\"604,-1558.5 281,-1558.5 281,-1145.5 604,-1145.5 604,-1558.5\"/>\n<text text-anchor=\"middle\" x=\"442.5\" y=\"-1543.3\" font-family=\"Times,serif\" font-size=\"14.00\" fill=\"#000000\">samples = 0.4%</text>\n<text text-anchor=\"middle\" x=\"442.5\" y=\"-1528.3\" font-family=\"Times,serif\" font-size=\"14.00\" fill=\"#000000\">value = [1.0, 0.0, 0.0, 0.0, 0.0, 0.0, 0.0, 0.0, 0.0, 0.0</text>\n<text text-anchor=\"middle\" x=\"442.5\" y=\"-1513.3\" font-family=\"Times,serif\" font-size=\"14.00\" fill=\"#000000\">0.0, 0.0, 0.0, 0.0, 0.0, 0.0, 0.0, 0.0, 0.0, 0.0</text>\n<text text-anchor=\"middle\" x=\"442.5\" y=\"-1498.3\" font-family=\"Times,serif\" font-size=\"14.00\" fill=\"#000000\">0.0, 0.0, 0.0, 0.0, 0.0, 0.0, 0.0, 0.0, 0.0, 0.0</text>\n<text text-anchor=\"middle\" x=\"442.5\" y=\"-1483.3\" font-family=\"Times,serif\" font-size=\"14.00\" fill=\"#000000\">0.0, 0.0, 0.0, 0.0, 0.0, 0.0, 0.0, 0.0, 0.0, 0.0</text>\n<text text-anchor=\"middle\" x=\"442.5\" y=\"-1468.3\" font-family=\"Times,serif\" font-size=\"14.00\" fill=\"#000000\">0.0, 0.0, 0.0, 0.0, 0.0, 0.0, 0.0, 0.0, 0.0, 0.0</text>\n<text text-anchor=\"middle\" x=\"442.5\" y=\"-1453.3\" font-family=\"Times,serif\" font-size=\"14.00\" fill=\"#000000\">0.0, 0.0, 0.0, 0.0, 0.0, 0.0, 0.0, 0.0, 0.0, 0.0</text>\n<text text-anchor=\"middle\" x=\"442.5\" y=\"-1438.3\" font-family=\"Times,serif\" font-size=\"14.00\" fill=\"#000000\">0.0, 0.0, 0.0, 0.0, 0.0, 0.0, 0.0, 0.0, 0.0, 0.0</text>\n<text text-anchor=\"middle\" x=\"442.5\" y=\"-1423.3\" font-family=\"Times,serif\" font-size=\"14.00\" fill=\"#000000\">0.0, 0.0, 0.0, 0.0, 0.0, 0.0, 0.0, 0.0, 0.0, 0.0</text>\n<text text-anchor=\"middle\" x=\"442.5\" y=\"-1408.3\" font-family=\"Times,serif\" font-size=\"14.00\" fill=\"#000000\">0.0, 0.0, 0.0, 0.0, 0.0, 0.0, 0.0, 0.0, 0.0, 0.0</text>\n<text text-anchor=\"middle\" x=\"442.5\" y=\"-1393.3\" font-family=\"Times,serif\" font-size=\"14.00\" fill=\"#000000\">0.0, 0.0, 0.0, 0.0, 0.0, 0.0, 0.0, 0.0, 0.0, 0.0</text>\n<text text-anchor=\"middle\" x=\"442.5\" y=\"-1378.3\" font-family=\"Times,serif\" font-size=\"14.00\" fill=\"#000000\">0.0, 0.0, 0.0, 0.0, 0.0, 0.0, 0.0, 0.0, 0.0, 0.0</text>\n<text text-anchor=\"middle\" x=\"442.5\" y=\"-1363.3\" font-family=\"Times,serif\" font-size=\"14.00\" fill=\"#000000\">0.0, 0.0, 0.0, 0.0, 0.0, 0.0, 0.0, 0.0, 0.0, 0.0</text>\n<text text-anchor=\"middle\" x=\"442.5\" y=\"-1348.3\" font-family=\"Times,serif\" font-size=\"14.00\" fill=\"#000000\">0.0, 0.0, 0.0, 0.0, 0.0, 0.0, 0.0, 0.0, 0.0, 0.0</text>\n<text text-anchor=\"middle\" x=\"442.5\" y=\"-1333.3\" font-family=\"Times,serif\" font-size=\"14.00\" fill=\"#000000\">0.0, 0.0, 0.0, 0.0, 0.0, 0.0, 0.0, 0.0, 0.0, 0.0</text>\n<text text-anchor=\"middle\" x=\"442.5\" y=\"-1318.3\" font-family=\"Times,serif\" font-size=\"14.00\" fill=\"#000000\">0.0, 0.0, 0.0, 0.0, 0.0, 0.0, 0.0, 0.0, 0.0, 0.0</text>\n<text text-anchor=\"middle\" x=\"442.5\" y=\"-1303.3\" font-family=\"Times,serif\" font-size=\"14.00\" fill=\"#000000\">0.0, 0.0, 0.0, 0.0, 0.0, 0.0, 0.0, 0.0, 0.0, 0.0</text>\n<text text-anchor=\"middle\" x=\"442.5\" y=\"-1288.3\" font-family=\"Times,serif\" font-size=\"14.00\" fill=\"#000000\">0.0, 0.0, 0.0, 0.0, 0.0, 0.0, 0.0, 0.0, 0.0, 0.0</text>\n<text text-anchor=\"middle\" x=\"442.5\" y=\"-1273.3\" font-family=\"Times,serif\" font-size=\"14.00\" fill=\"#000000\">0.0, 0.0, 0.0, 0.0, 0.0, 0.0, 0.0, 0.0, 0.0, 0.0</text>\n<text text-anchor=\"middle\" x=\"442.5\" y=\"-1258.3\" font-family=\"Times,serif\" font-size=\"14.00\" fill=\"#000000\">0.0, 0.0, 0.0, 0.0, 0.0, 0.0, 0.0, 0.0, 0.0, 0.0</text>\n<text text-anchor=\"middle\" x=\"442.5\" y=\"-1243.3\" font-family=\"Times,serif\" font-size=\"14.00\" fill=\"#000000\">0.0, 0.0, 0.0, 0.0, 0.0, 0.0, 0.0, 0.0, 0.0, 0.0</text>\n<text text-anchor=\"middle\" x=\"442.5\" y=\"-1228.3\" font-family=\"Times,serif\" font-size=\"14.00\" fill=\"#000000\">0.0, 0.0, 0.0, 0.0, 0.0, 0.0, 0.0, 0.0, 0.0, 0.0</text>\n<text text-anchor=\"middle\" x=\"442.5\" y=\"-1213.3\" font-family=\"Times,serif\" font-size=\"14.00\" fill=\"#000000\">0.0, 0.0, 0.0, 0.0, 0.0, 0.0, 0.0, 0.0, 0.0, 0.0</text>\n<text text-anchor=\"middle\" x=\"442.5\" y=\"-1198.3\" font-family=\"Times,serif\" font-size=\"14.00\" fill=\"#000000\">0.0, 0.0, 0.0, 0.0, 0.0, 0.0, 0.0, 0.0, 0.0, 0.0</text>\n<text text-anchor=\"middle\" x=\"442.5\" y=\"-1183.3\" font-family=\"Times,serif\" font-size=\"14.00\" fill=\"#000000\">0.0, 0.0, 0.0, 0.0, 0.0, 0.0, 0.0, 0.0, 0.0, 0.0</text>\n<text text-anchor=\"middle\" x=\"442.5\" y=\"-1168.3\" font-family=\"Times,serif\" font-size=\"14.00\" fill=\"#000000\">0.0, 0.0, 0.0, 0.0, 0.0, 0.0]</text>\n<text text-anchor=\"middle\" x=\"442.5\" y=\"-1153.3\" font-family=\"Times,serif\" font-size=\"14.00\" fill=\"#000000\">class = afghanistan</text>\n</g>\n<!-- 0&#45;&gt;1 -->\n<g id=\"edge1\" class=\"edge\">\n<title>0&#45;&gt;1</title>\n<path fill=\"none\" stroke=\"#000000\" d=\"M539.8938,-1646.8425C531.2329,-1620.6231 522.5012,-1594.1895 514.011,-1568.4868\"/>\n<polygon fill=\"#000000\" stroke=\"#000000\" points=\"517.2295,-1567.0713 510.7695,-1558.6738 510.5827,-1569.267 517.2295,-1567.0713\"/>\n<text text-anchor=\"middle\" x=\"499.5286\" y=\"-1577.3041\" font-family=\"Times,serif\" font-size=\"14.00\" fill=\"#000000\">True</text>\n</g>\n<!-- 2 -->\n<g id=\"node3\" class=\"node\">\n<title>2</title>\n<polygon fill=\"#ffffff\" stroke=\"#000000\" points=\"997,-1611 622,-1611 622,-1093 997,-1093 997,-1611\"/>\n<text text-anchor=\"middle\" x=\"809.5\" y=\"-1595.8\" font-family=\"Times,serif\" font-size=\"14.00\" fill=\"#000000\">Code &lt;= 2.5</text>\n<text text-anchor=\"middle\" x=\"809.5\" y=\"-1580.8\" font-family=\"Times,serif\" font-size=\"14.00\" fill=\"#000000\">samples = 99.6%</text>\n<text text-anchor=\"middle\" x=\"809.5\" y=\"-1565.8\" font-family=\"Times,serif\" font-size=\"14.00\" fill=\"#000000\">value = [0.0, 0.004, 0.004, 0.004, 0.004, 0.004, 0.004, 0.004</text>\n<text text-anchor=\"middle\" x=\"809.5\" y=\"-1550.8\" font-family=\"Times,serif\" font-size=\"14.00\" fill=\"#000000\">0.004, 0.004, 0.004, 0.004, 0.004, 0.004, 0.004, 0.004</text>\n<text text-anchor=\"middle\" x=\"809.5\" y=\"-1535.8\" font-family=\"Times,serif\" font-size=\"14.00\" fill=\"#000000\">0.004, 0.004, 0.004, 0.004, 0.004, 0.004, 0.004, 0.004</text>\n<text text-anchor=\"middle\" x=\"809.5\" y=\"-1520.8\" font-family=\"Times,serif\" font-size=\"14.00\" fill=\"#000000\">0.004, 0.004, 0.004, 0.004, 0.004, 0.004, 0.004, 0.004</text>\n<text text-anchor=\"middle\" x=\"809.5\" y=\"-1505.8\" font-family=\"Times,serif\" font-size=\"14.00\" fill=\"#000000\">0.004, 0.004, 0.004, 0.004, 0.004, 0.004, 0.004, 0.004</text>\n<text text-anchor=\"middle\" x=\"809.5\" y=\"-1490.8\" font-family=\"Times,serif\" font-size=\"14.00\" fill=\"#000000\">0.004, 0.004, 0.004, 0.004, 0.004, 0.004, 0.004, 0.004</text>\n<text text-anchor=\"middle\" x=\"809.5\" y=\"-1475.8\" font-family=\"Times,serif\" font-size=\"14.00\" fill=\"#000000\">0.004, 0.004, 0.004, 0.004, 0.004, 0.004, 0.004, 0.004</text>\n<text text-anchor=\"middle\" x=\"809.5\" y=\"-1460.8\" font-family=\"Times,serif\" font-size=\"14.00\" fill=\"#000000\">0.004, 0.004, 0.004, 0.004, 0.004, 0.004, 0.004, 0.004</text>\n<text text-anchor=\"middle\" x=\"809.5\" y=\"-1445.8\" font-family=\"Times,serif\" font-size=\"14.00\" fill=\"#000000\">0.004, 0.004, 0.004, 0.004, 0.004, 0.004, 0.004, 0.004</text>\n<text text-anchor=\"middle\" x=\"809.5\" y=\"-1430.8\" font-family=\"Times,serif\" font-size=\"14.00\" fill=\"#000000\">0.004, 0.004, 0.004, 0.004, 0.004, 0.004, 0.004, 0.004</text>\n<text text-anchor=\"middle\" x=\"809.5\" y=\"-1415.8\" font-family=\"Times,serif\" font-size=\"14.00\" fill=\"#000000\">0.004, 0.004, 0.004, 0.004, 0.004, 0.004, 0.004, 0.004</text>\n<text text-anchor=\"middle\" x=\"809.5\" y=\"-1400.8\" font-family=\"Times,serif\" font-size=\"14.00\" fill=\"#000000\">0.004, 0.004, 0.004, 0.004, 0.004, 0.004, 0.004, 0.004</text>\n<text text-anchor=\"middle\" x=\"809.5\" y=\"-1385.8\" font-family=\"Times,serif\" font-size=\"14.00\" fill=\"#000000\">0.004, 0.004, 0.004, 0.004, 0.004, 0.004, 0.004, 0.004</text>\n<text text-anchor=\"middle\" x=\"809.5\" y=\"-1370.8\" font-family=\"Times,serif\" font-size=\"14.00\" fill=\"#000000\">0.004, 0.004, 0.004, 0.004, 0.004, 0.004, 0.004, 0.004</text>\n<text text-anchor=\"middle\" x=\"809.5\" y=\"-1355.8\" font-family=\"Times,serif\" font-size=\"14.00\" fill=\"#000000\">0.004, 0.004, 0.004, 0.004, 0.004, 0.004, 0.004, 0.004</text>\n<text text-anchor=\"middle\" x=\"809.5\" y=\"-1340.8\" font-family=\"Times,serif\" font-size=\"14.00\" fill=\"#000000\">0.004, 0.004, 0.004, 0.004, 0.004, 0.004, 0.004, 0.004</text>\n<text text-anchor=\"middle\" x=\"809.5\" y=\"-1325.8\" font-family=\"Times,serif\" font-size=\"14.00\" fill=\"#000000\">0.004, 0.004, 0.004, 0.004, 0.004, 0.004, 0.004, 0.004</text>\n<text text-anchor=\"middle\" x=\"809.5\" y=\"-1310.8\" font-family=\"Times,serif\" font-size=\"14.00\" fill=\"#000000\">0.004, 0.004, 0.004, 0.004, 0.004, 0.004, 0.004, 0.004</text>\n<text text-anchor=\"middle\" x=\"809.5\" y=\"-1295.8\" font-family=\"Times,serif\" font-size=\"14.00\" fill=\"#000000\">0.004, 0.004, 0.004, 0.004, 0.004, 0.004, 0.004, 0.004</text>\n<text text-anchor=\"middle\" x=\"809.5\" y=\"-1280.8\" font-family=\"Times,serif\" font-size=\"14.00\" fill=\"#000000\">0.004, 0.004, 0.004, 0.004, 0.004, 0.004, 0.004, 0.004</text>\n<text text-anchor=\"middle\" x=\"809.5\" y=\"-1265.8\" font-family=\"Times,serif\" font-size=\"14.00\" fill=\"#000000\">0.004, 0.004, 0.004, 0.004, 0.004, 0.004, 0.004, 0.004</text>\n<text text-anchor=\"middle\" x=\"809.5\" y=\"-1250.8\" font-family=\"Times,serif\" font-size=\"14.00\" fill=\"#000000\">0.004, 0.004, 0.004, 0.004, 0.004, 0.004, 0.004, 0.004</text>\n<text text-anchor=\"middle\" x=\"809.5\" y=\"-1235.8\" font-family=\"Times,serif\" font-size=\"14.00\" fill=\"#000000\">0.004, 0.004, 0.004, 0.004, 0.004, 0.004, 0.004, 0.004</text>\n<text text-anchor=\"middle\" x=\"809.5\" y=\"-1220.8\" font-family=\"Times,serif\" font-size=\"14.00\" fill=\"#000000\">0.004, 0.004, 0.004, 0.004, 0.004, 0.004, 0.004, 0.004</text>\n<text text-anchor=\"middle\" x=\"809.5\" y=\"-1205.8\" font-family=\"Times,serif\" font-size=\"14.00\" fill=\"#000000\">0.004, 0.004, 0.004, 0.004, 0.004, 0.004, 0.004, 0.004</text>\n<text text-anchor=\"middle\" x=\"809.5\" y=\"-1190.8\" font-family=\"Times,serif\" font-size=\"14.00\" fill=\"#000000\">0.004, 0.004, 0.004, 0.004, 0.004, 0.004, 0.004, 0.004</text>\n<text text-anchor=\"middle\" x=\"809.5\" y=\"-1175.8\" font-family=\"Times,serif\" font-size=\"14.00\" fill=\"#000000\">0.004, 0.004, 0.004, 0.004, 0.004, 0.004, 0.004, 0.004</text>\n<text text-anchor=\"middle\" x=\"809.5\" y=\"-1160.8\" font-family=\"Times,serif\" font-size=\"14.00\" fill=\"#000000\">0.004, 0.004, 0.004, 0.004, 0.004, 0.004, 0.004, 0.004</text>\n<text text-anchor=\"middle\" x=\"809.5\" y=\"-1145.8\" font-family=\"Times,serif\" font-size=\"14.00\" fill=\"#000000\">0.004, 0.004, 0.004, 0.004, 0.004, 0.004, 0.004, 0.004</text>\n<text text-anchor=\"middle\" x=\"809.5\" y=\"-1130.8\" font-family=\"Times,serif\" font-size=\"14.00\" fill=\"#000000\">0.004, 0.004, 0.004, 0.004, 0.004, 0.004, 0.004, 0.004</text>\n<text text-anchor=\"middle\" x=\"809.5\" y=\"-1115.8\" font-family=\"Times,serif\" font-size=\"14.00\" fill=\"#000000\">0.004, 0.004, 0.004, 0.004, 0.004, 0.004]</text>\n<text text-anchor=\"middle\" x=\"809.5\" y=\"-1100.8\" font-family=\"Times,serif\" font-size=\"14.00\" fill=\"#000000\">class = africa</text>\n</g>\n<!-- 0&#45;&gt;2 -->\n<g id=\"edge2\" class=\"edge\">\n<title>0&#45;&gt;2</title>\n<path fill=\"none\" stroke=\"#000000\" d=\"M711.574,-1646.8425C714.4281,-1638.249 717.2899,-1629.6325 720.1483,-1621.0263\"/>\n<polygon fill=\"#000000\" stroke=\"#000000\" points=\"723.543,-1621.9092 723.3735,-1611.3157 716.8998,-1619.7027 723.543,-1621.9092\"/>\n<text text-anchor=\"middle\" x=\"734.5781\" y=\"-1629.9642\" font-family=\"Times,serif\" font-size=\"14.00\" fill=\"#000000\">False</text>\n</g>\n<!-- 3 -->\n<g id=\"node4\" class=\"node\">\n<title>3</title>\n<polygon fill=\"#ffffff\" stroke=\"#000000\" points=\"795,-1019.5 0,-1019.5 0,-576.5 795,-576.5 795,-1019.5\"/>\n<text text-anchor=\"middle\" x=\"397.5\" y=\"-1004.3\" font-family=\"Times,serif\" font-size=\"14.00\" fill=\"#000000\">Estimates, 1950 &#45; 2020: Total population by broad age group, both sexes combined (thousands) &#45; Population under age 15 &lt;= 944.164</text>\n<text text-anchor=\"middle\" x=\"397.5\" y=\"-989.3\" font-family=\"Times,serif\" font-size=\"14.00\" fill=\"#000000\">samples = 17.5%</text>\n<text text-anchor=\"middle\" x=\"397.5\" y=\"-974.3\" font-family=\"Times,serif\" font-size=\"14.00\" fill=\"#000000\">value = [0.0, 0.023, 0.0, 0.0, 0.0, 0.0, 0.0, 0.0, 0.0, 0.023</text>\n<text text-anchor=\"middle\" x=\"397.5\" y=\"-959.3\" font-family=\"Times,serif\" font-size=\"14.00\" fill=\"#000000\">0.023, 0.0, 0.023, 0.0, 0.0, 0.0, 0.0, 0.0, 0.0, 0.0</text>\n<text text-anchor=\"middle\" x=\"397.5\" y=\"-944.3\" font-family=\"Times,serif\" font-size=\"14.00\" fill=\"#000000\">0.0, 0.0, 0.0, 0.0, 0.0, 0.0, 0.0, 0.0, 0.0, 0.0</text>\n<text text-anchor=\"middle\" x=\"397.5\" y=\"-929.3\" font-family=\"Times,serif\" font-size=\"14.00\" fill=\"#000000\">0.0, 0.0, 0.0, 0.0, 0.0, 0.0, 0.023, 0.0, 0.023</text>\n<text text-anchor=\"middle\" x=\"397.5\" y=\"-914.3\" font-family=\"Times,serif\" font-size=\"14.00\" fill=\"#000000\">0.023, 0.0, 0.0, 0.0, 0.0, 0.0, 0.0, 0.0, 0.0, 0.0</text>\n<text text-anchor=\"middle\" x=\"397.5\" y=\"-899.3\" font-family=\"Times,serif\" font-size=\"14.00\" fill=\"#000000\">0.0, 0.0, 0.0, 0.0, 0.0, 0.0, 0.0, 0.0, 0.0, 0.023</text>\n<text text-anchor=\"middle\" x=\"397.5\" y=\"-884.3\" font-family=\"Times,serif\" font-size=\"14.00\" fill=\"#000000\">0.023, 0.023, 0.023, 0.0, 0.0, 0.0, 0.0, 0.0, 0.0</text>\n<text text-anchor=\"middle\" x=\"397.5\" y=\"-869.3\" font-family=\"Times,serif\" font-size=\"14.00\" fill=\"#000000\">0.0, 0.023, 0.023, 0.023, 0.0, 0.0, 0.0, 0.0, 0.0</text>\n<text text-anchor=\"middle\" x=\"397.5\" y=\"-854.3\" font-family=\"Times,serif\" font-size=\"14.00\" fill=\"#000000\">0.0, 0.0, 0.0, 0.0, 0.0, 0.0, 0.0, 0.0, 0.0, 0.0</text>\n<text text-anchor=\"middle\" x=\"397.5\" y=\"-839.3\" font-family=\"Times,serif\" font-size=\"14.00\" fill=\"#000000\">0.0, 0.0, 0.0, 0.0, 0.023, 0.0, 0.0, 0.0, 0.0, 0.0</text>\n<text text-anchor=\"middle\" x=\"397.5\" y=\"-824.3\" font-family=\"Times,serif\" font-size=\"14.00\" fill=\"#000000\">0.0, 0.0, 0.0, 0.0, 0.0, 0.0, 0.0, 0.0, 0.0, 0.0</text>\n<text text-anchor=\"middle\" x=\"397.5\" y=\"-809.3\" font-family=\"Times,serif\" font-size=\"14.00\" fill=\"#000000\">0.0, 0.0, 0.0, 0.0, 0.023, 0.0, 0.023, 0.0, 0.023</text>\n<text text-anchor=\"middle\" x=\"397.5\" y=\"-794.3\" font-family=\"Times,serif\" font-size=\"14.00\" fill=\"#000000\">0.0, 0.0, 0.023, 0.023, 0.023, 0.0, 0.0, 0.0, 0.023</text>\n<text text-anchor=\"middle\" x=\"397.5\" y=\"-779.3\" font-family=\"Times,serif\" font-size=\"14.00\" fill=\"#000000\">0.023, 0.0, 0.0, 0.0, 0.0, 0.0, 0.0, 0.0, 0.0, 0.0</text>\n<text text-anchor=\"middle\" x=\"397.5\" y=\"-764.3\" font-family=\"Times,serif\" font-size=\"14.00\" fill=\"#000000\">0.0, 0.0, 0.0, 0.0, 0.0, 0.0, 0.0, 0.023, 0.023, 0.0</text>\n<text text-anchor=\"middle\" x=\"397.5\" y=\"-749.3\" font-family=\"Times,serif\" font-size=\"14.00\" fill=\"#000000\">0.0, 0.0, 0.023, 0.0, 0.0, 0.0, 0.0, 0.0, 0.0, 0.0</text>\n<text text-anchor=\"middle\" x=\"397.5\" y=\"-734.3\" font-family=\"Times,serif\" font-size=\"14.00\" fill=\"#000000\">0.0, 0.0, 0.0, 0.0, 0.023, 0.0, 0.023, 0.023, 0.023</text>\n<text text-anchor=\"middle\" x=\"397.5\" y=\"-719.3\" font-family=\"Times,serif\" font-size=\"14.00\" fill=\"#000000\">0.023, 0.0, 0.023, 0.023, 0.0, 0.0, 0.0, 0.0, 0.0</text>\n<text text-anchor=\"middle\" x=\"397.5\" y=\"-704.3\" font-family=\"Times,serif\" font-size=\"14.00\" fill=\"#000000\">0.0, 0.0, 0.0, 0.0, 0.0, 0.0, 0.0, 0.0, 0.0, 0.0</text>\n<text text-anchor=\"middle\" x=\"397.5\" y=\"-689.3\" font-family=\"Times,serif\" font-size=\"14.00\" fill=\"#000000\">0.0, 0.0, 0.0, 0.0, 0.0, 0.0, 0.0, 0.0, 0.0, 0.0</text>\n<text text-anchor=\"middle\" x=\"397.5\" y=\"-674.3\" font-family=\"Times,serif\" font-size=\"14.00\" fill=\"#000000\">0.0, 0.0, 0.0, 0.023, 0.0, 0.0, 0.0, 0.023, 0.023</text>\n<text text-anchor=\"middle\" x=\"397.5\" y=\"-659.3\" font-family=\"Times,serif\" font-size=\"14.00\" fill=\"#000000\">0.0, 0.0, 0.023, 0.023, 0.023, 0.0, 0.0, 0.023, 0.0</text>\n<text text-anchor=\"middle\" x=\"397.5\" y=\"-644.3\" font-family=\"Times,serif\" font-size=\"14.00\" fill=\"#000000\">0.0, 0.0, 0.0, 0.0, 0.0, 0.0, 0.0, 0.0, 0.0, 0.0</text>\n<text text-anchor=\"middle\" x=\"397.5\" y=\"-629.3\" font-family=\"Times,serif\" font-size=\"14.00\" fill=\"#000000\">0.0, 0.0, 0.0, 0.0, 0.0, 0.0, 0.0, 0.0, 0.0, 0.0</text>\n<text text-anchor=\"middle\" x=\"397.5\" y=\"-614.3\" font-family=\"Times,serif\" font-size=\"14.00\" fill=\"#000000\">0.0, 0.0, 0.023, 0.0, 0.0, 0.0, 0.0, 0.0, 0.023</text>\n<text text-anchor=\"middle\" x=\"397.5\" y=\"-599.3\" font-family=\"Times,serif\" font-size=\"14.00\" fill=\"#000000\">0.023, 0.0, 0.0, 0.0, 0.0, 0.0]</text>\n<text text-anchor=\"middle\" x=\"397.5\" y=\"-584.3\" font-family=\"Times,serif\" font-size=\"14.00\" fill=\"#000000\">class = africa</text>\n</g>\n<!-- 2&#45;&gt;3 -->\n<g id=\"edge3\" class=\"edge\">\n<title>2&#45;&gt;3</title>\n<path fill=\"none\" stroke=\"#000000\" d=\"M621.8855,-1099.7222C604.0431,-1075.7303 586.0153,-1051.489 568.3432,-1027.726\"/>\n<polygon fill=\"#000000\" stroke=\"#000000\" points=\"571.1405,-1025.6223 562.3645,-1019.6867 565.5235,-1029.7996 571.1405,-1025.6223\"/>\n</g>\n<!-- 6 -->\n<g id=\"node7\" class=\"node\">\n<title>6</title>\n<polygon fill=\"#ffffff\" stroke=\"#000000\" points=\"1630,-1057 813,-1057 813,-539 1630,-539 1630,-1057\"/>\n<text text-anchor=\"middle\" x=\"1221.5\" y=\"-1041.8\" font-family=\"Times,serif\" font-size=\"14.00\" fill=\"#000000\">Estimates, 1950 &#45; 2020: Total population by broad age group, both sexes combined (thousands) &#45; Population under age 15 &lt;= 115365.727</text>\n<text text-anchor=\"middle\" x=\"1221.5\" y=\"-1026.8\" font-family=\"Times,serif\" font-size=\"14.00\" fill=\"#000000\">samples = 82.1%</text>\n<text text-anchor=\"middle\" x=\"1221.5\" y=\"-1011.8\" font-family=\"Times,serif\" font-size=\"14.00\" fill=\"#000000\">value = [0.0, 0.0, 0.005, 0.005, 0.005, 0.005, 0.005, 0.005</text>\n<text text-anchor=\"middle\" x=\"1221.5\" y=\"-996.8\" font-family=\"Times,serif\" font-size=\"14.00\" fill=\"#000000\">0.005, 0.0, 0.0, 0.005, 0.0, 0.005, 0.005, 0.005</text>\n<text text-anchor=\"middle\" x=\"1221.5\" y=\"-981.8\" font-family=\"Times,serif\" font-size=\"14.00\" fill=\"#000000\">0.005, 0.005, 0.005, 0.005, 0.005, 0.005, 0.005, 0.005</text>\n<text text-anchor=\"middle\" x=\"1221.5\" y=\"-966.8\" font-family=\"Times,serif\" font-size=\"14.00\" fill=\"#000000\">0.005, 0.005, 0.005, 0.005, 0.005, 0.005, 0.005, 0.005</text>\n<text text-anchor=\"middle\" x=\"1221.5\" y=\"-951.8\" font-family=\"Times,serif\" font-size=\"14.00\" fill=\"#000000\">0.005, 0.005, 0.005, 0.005, 0.0, 0.005, 0.0, 0.0</text>\n<text text-anchor=\"middle\" x=\"1221.5\" y=\"-936.8\" font-family=\"Times,serif\" font-size=\"14.00\" fill=\"#000000\">0.005, 0.005, 0.005, 0.005, 0.005, 0.005, 0.005, 0.005</text>\n<text text-anchor=\"middle\" x=\"1221.5\" y=\"-921.8\" font-family=\"Times,serif\" font-size=\"14.00\" fill=\"#000000\">0.005, 0.005, 0.005, 0.005, 0.005, 0.005, 0.005, 0.005</text>\n<text text-anchor=\"middle\" x=\"1221.5\" y=\"-906.8\" font-family=\"Times,serif\" font-size=\"14.00\" fill=\"#000000\">0.005, 0.005, 0.0, 0.0, 0.0, 0.0, 0.005, 0.005, 0.005</text>\n<text text-anchor=\"middle\" x=\"1221.5\" y=\"-891.8\" font-family=\"Times,serif\" font-size=\"14.00\" fill=\"#000000\">0.005, 0.005, 0.005, 0.005, 0.0, 0.0, 0.0, 0.005</text>\n<text text-anchor=\"middle\" x=\"1221.5\" y=\"-876.8\" font-family=\"Times,serif\" font-size=\"14.00\" fill=\"#000000\">0.005, 0.005, 0.005, 0.005, 0.005, 0.005, 0.005, 0.005</text>\n<text text-anchor=\"middle\" x=\"1221.5\" y=\"-861.8\" font-family=\"Times,serif\" font-size=\"14.00\" fill=\"#000000\">0.005, 0.005, 0.005, 0.005, 0.005, 0.005, 0.005, 0.005</text>\n<text text-anchor=\"middle\" x=\"1221.5\" y=\"-846.8\" font-family=\"Times,serif\" font-size=\"14.00\" fill=\"#000000\">0.005, 0.005, 0.0, 0.005, 0.005, 0.005, 0.005, 0.005</text>\n<text text-anchor=\"middle\" x=\"1221.5\" y=\"-831.8\" font-family=\"Times,serif\" font-size=\"14.00\" fill=\"#000000\">0.005, 0.005, 0.005, 0.005, 0.005, 0.005, 0.005, 0.005</text>\n<text text-anchor=\"middle\" x=\"1221.5\" y=\"-816.8\" font-family=\"Times,serif\" font-size=\"14.00\" fill=\"#000000\">0.005, 0.005, 0.005, 0.005, 0.005, 0.005, 0.0, 0.005</text>\n<text text-anchor=\"middle\" x=\"1221.5\" y=\"-801.8\" font-family=\"Times,serif\" font-size=\"14.00\" fill=\"#000000\">0.0, 0.005, 0.0, 0.005, 0.005, 0.0, 0.0, 0.0, 0.005</text>\n<text text-anchor=\"middle\" x=\"1221.5\" y=\"-786.8\" font-family=\"Times,serif\" font-size=\"14.00\" fill=\"#000000\">0.005, 0.005, 0.0, 0.0, 0.005, 0.005, 0.005, 0.005</text>\n<text text-anchor=\"middle\" x=\"1221.5\" y=\"-771.8\" font-family=\"Times,serif\" font-size=\"14.00\" fill=\"#000000\">0.005, 0.005, 0.005, 0.005, 0.005, 0.005, 0.005, 0.005</text>\n<text text-anchor=\"middle\" x=\"1221.5\" y=\"-756.8\" font-family=\"Times,serif\" font-size=\"14.00\" fill=\"#000000\">0.005, 0.005, 0.005, 0.005, 0.0, 0.0, 0.005, 0.005</text>\n<text text-anchor=\"middle\" x=\"1221.5\" y=\"-741.8\" font-family=\"Times,serif\" font-size=\"14.00\" fill=\"#000000\">0.005, 0.0, 0.005, 0.005, 0.005, 0.005, 0.005, 0.005</text>\n<text text-anchor=\"middle\" x=\"1221.5\" y=\"-726.8\" font-family=\"Times,serif\" font-size=\"14.00\" fill=\"#000000\">0.005, 0.005, 0.005, 0.005, 0.005, 0.0, 0.005, 0.0</text>\n<text text-anchor=\"middle\" x=\"1221.5\" y=\"-711.8\" font-family=\"Times,serif\" font-size=\"14.00\" fill=\"#000000\">0.0, 0.0, 0.0, 0.005, 0.0, 0.0, 0.005, 0.005, 0.005</text>\n<text text-anchor=\"middle\" x=\"1221.5\" y=\"-696.8\" font-family=\"Times,serif\" font-size=\"14.00\" fill=\"#000000\">0.005, 0.005, 0.005, 0.005, 0.005, 0.005, 0.005, 0.005</text>\n<text text-anchor=\"middle\" x=\"1221.5\" y=\"-681.8\" font-family=\"Times,serif\" font-size=\"14.00\" fill=\"#000000\">0.005, 0.005, 0.005, 0.005, 0.005, 0.005, 0.005, 0.005</text>\n<text text-anchor=\"middle\" x=\"1221.5\" y=\"-666.8\" font-family=\"Times,serif\" font-size=\"14.00\" fill=\"#000000\">0.005, 0.005, 0.005, 0.005, 0.005, 0.005, 0.005, 0.005</text>\n<text text-anchor=\"middle\" x=\"1221.5\" y=\"-651.8\" font-family=\"Times,serif\" font-size=\"14.00\" fill=\"#000000\">0.005, 0.0, 0.005, 0.005, 0.005, 0.0, 0.0, 0.005</text>\n<text text-anchor=\"middle\" x=\"1221.5\" y=\"-636.8\" font-family=\"Times,serif\" font-size=\"14.00\" fill=\"#000000\">0.005, 0.0, 0.0, 0.0, 0.005, 0.005, 0.0, 0.005, 0.005</text>\n<text text-anchor=\"middle\" x=\"1221.5\" y=\"-621.8\" font-family=\"Times,serif\" font-size=\"14.00\" fill=\"#000000\">0.005, 0.005, 0.005, 0.005, 0.005, 0.005, 0.005, 0.005</text>\n<text text-anchor=\"middle\" x=\"1221.5\" y=\"-606.8\" font-family=\"Times,serif\" font-size=\"14.00\" fill=\"#000000\">0.005, 0.005, 0.005, 0.005, 0.005, 0.005, 0.005, 0.005</text>\n<text text-anchor=\"middle\" x=\"1221.5\" y=\"-591.8\" font-family=\"Times,serif\" font-size=\"14.00\" fill=\"#000000\">0.005, 0.005, 0.005, 0.005, 0.005, 0.0, 0.005, 0.005</text>\n<text text-anchor=\"middle\" x=\"1221.5\" y=\"-576.8\" font-family=\"Times,serif\" font-size=\"14.00\" fill=\"#000000\">0.005, 0.005, 0.005, 0.0, 0.0, 0.005, 0.005, 0.005</text>\n<text text-anchor=\"middle\" x=\"1221.5\" y=\"-561.8\" font-family=\"Times,serif\" font-size=\"14.00\" fill=\"#000000\">0.005, 0.005]</text>\n<text text-anchor=\"middle\" x=\"1221.5\" y=\"-546.8\" font-family=\"Times,serif\" font-size=\"14.00\" fill=\"#000000\">class = albania</text>\n</g>\n<!-- 2&#45;&gt;6 -->\n<g id=\"edge6\" class=\"edge\">\n<title>2&#45;&gt;6</title>\n<path fill=\"none\" stroke=\"#000000\" d=\"M997.1145,-1099.7222C1005.5748,-1088.346 1014.0768,-1076.9137 1022.5628,-1065.5029\"/>\n<polygon fill=\"#000000\" stroke=\"#000000\" points=\"1025.5792,-1067.3119 1028.7383,-1057.199 1019.9622,-1063.1346 1025.5792,-1067.3119\"/>\n</g>\n<!-- 4 -->\n<g id=\"node5\" class=\"node\">\n<title>4</title>\n<polygon fill=\"#6a39e5\" stroke=\"#000000\" points=\"426,-458 103,-458 103,-45 426,-45 426,-458\"/>\n<text text-anchor=\"middle\" x=\"264.5\" y=\"-442.8\" font-family=\"Times,serif\" font-size=\"14.00\" fill=\"#000000\">samples = 0.4%</text>\n<text text-anchor=\"middle\" x=\"264.5\" y=\"-427.8\" font-family=\"Times,serif\" font-size=\"14.00\" fill=\"#000000\">value = [0.0, 0.0, 0.0, 0.0, 0.0, 0.0, 0.0, 0.0, 0.0, 0.0</text>\n<text text-anchor=\"middle\" x=\"264.5\" y=\"-412.8\" font-family=\"Times,serif\" font-size=\"14.00\" fill=\"#000000\">0.0, 0.0, 0.0, 0.0, 0.0, 0.0, 0.0, 0.0, 0.0, 0.0</text>\n<text text-anchor=\"middle\" x=\"264.5\" y=\"-397.8\" font-family=\"Times,serif\" font-size=\"14.00\" fill=\"#000000\">0.0, 0.0, 0.0, 0.0, 0.0, 0.0, 0.0, 0.0, 0.0, 0.0</text>\n<text text-anchor=\"middle\" x=\"264.5\" y=\"-382.8\" font-family=\"Times,serif\" font-size=\"14.00\" fill=\"#000000\">0.0, 0.0, 0.0, 0.0, 0.0, 0.0, 0.0, 0.0, 0.0, 0.0</text>\n<text text-anchor=\"middle\" x=\"264.5\" y=\"-367.8\" font-family=\"Times,serif\" font-size=\"14.00\" fill=\"#000000\">0.0, 0.0, 0.0, 0.0, 0.0, 0.0, 0.0, 0.0, 0.0, 0.0</text>\n<text text-anchor=\"middle\" x=\"264.5\" y=\"-352.8\" font-family=\"Times,serif\" font-size=\"14.00\" fill=\"#000000\">0.0, 0.0, 0.0, 0.0, 0.0, 0.0, 0.0, 0.0, 0.0, 0.0</text>\n<text text-anchor=\"middle\" x=\"264.5\" y=\"-337.8\" font-family=\"Times,serif\" font-size=\"14.00\" fill=\"#000000\">0.0, 0.0, 0.0, 0.0, 0.0, 0.0, 0.0, 0.0, 0.0, 0.0</text>\n<text text-anchor=\"middle\" x=\"264.5\" y=\"-322.8\" font-family=\"Times,serif\" font-size=\"14.00\" fill=\"#000000\">0.0, 0.0, 0.0, 0.0, 0.0, 0.0, 0.0, 0.0, 0.0, 0.0</text>\n<text text-anchor=\"middle\" x=\"264.5\" y=\"-307.8\" font-family=\"Times,serif\" font-size=\"14.00\" fill=\"#000000\">0.0, 0.0, 0.0, 0.0, 0.0, 0.0, 0.0, 0.0, 0.0, 0.0</text>\n<text text-anchor=\"middle\" x=\"264.5\" y=\"-292.8\" font-family=\"Times,serif\" font-size=\"14.00\" fill=\"#000000\">0.0, 0.0, 0.0, 0.0, 0.0, 0.0, 0.0, 0.0, 0.0, 0.0</text>\n<text text-anchor=\"middle\" x=\"264.5\" y=\"-277.8\" font-family=\"Times,serif\" font-size=\"14.00\" fill=\"#000000\">0.0, 0.0, 0.0, 0.0, 0.0, 0.0, 0.0, 0.0, 0.0, 0.0</text>\n<text text-anchor=\"middle\" x=\"264.5\" y=\"-262.8\" font-family=\"Times,serif\" font-size=\"14.00\" fill=\"#000000\">0.0, 0.0, 0.0, 0.0, 0.0, 0.0, 0.0, 0.0, 0.0, 0.0</text>\n<text text-anchor=\"middle\" x=\"264.5\" y=\"-247.8\" font-family=\"Times,serif\" font-size=\"14.00\" fill=\"#000000\">0.0, 0.0, 0.0, 0.0, 0.0, 0.0, 0.0, 0.0, 0.0, 0.0</text>\n<text text-anchor=\"middle\" x=\"264.5\" y=\"-232.8\" font-family=\"Times,serif\" font-size=\"14.00\" fill=\"#000000\">0.0, 0.0, 0.0, 0.0, 0.0, 0.0, 0.0, 0.0, 0.0, 0.0</text>\n<text text-anchor=\"middle\" x=\"264.5\" y=\"-217.8\" font-family=\"Times,serif\" font-size=\"14.00\" fill=\"#000000\">0.0, 0.0, 0.0, 0.0, 0.0, 0.0, 0.0, 0.0, 0.0, 0.0</text>\n<text text-anchor=\"middle\" x=\"264.5\" y=\"-202.8\" font-family=\"Times,serif\" font-size=\"14.00\" fill=\"#000000\">0.0, 0.0, 0.0, 0.0, 0.0, 0.0, 0.0, 0.0, 0.0, 1.0</text>\n<text text-anchor=\"middle\" x=\"264.5\" y=\"-187.8\" font-family=\"Times,serif\" font-size=\"14.00\" fill=\"#000000\">0.0, 0.0, 0.0, 0.0, 0.0, 0.0, 0.0, 0.0, 0.0, 0.0</text>\n<text text-anchor=\"middle\" x=\"264.5\" y=\"-172.8\" font-family=\"Times,serif\" font-size=\"14.00\" fill=\"#000000\">0.0, 0.0, 0.0, 0.0, 0.0, 0.0, 0.0, 0.0, 0.0, 0.0</text>\n<text text-anchor=\"middle\" x=\"264.5\" y=\"-157.8\" font-family=\"Times,serif\" font-size=\"14.00\" fill=\"#000000\">0.0, 0.0, 0.0, 0.0, 0.0, 0.0, 0.0, 0.0, 0.0, 0.0</text>\n<text text-anchor=\"middle\" x=\"264.5\" y=\"-142.8\" font-family=\"Times,serif\" font-size=\"14.00\" fill=\"#000000\">0.0, 0.0, 0.0, 0.0, 0.0, 0.0, 0.0, 0.0, 0.0, 0.0</text>\n<text text-anchor=\"middle\" x=\"264.5\" y=\"-127.8\" font-family=\"Times,serif\" font-size=\"14.00\" fill=\"#000000\">0.0, 0.0, 0.0, 0.0, 0.0, 0.0, 0.0, 0.0, 0.0, 0.0</text>\n<text text-anchor=\"middle\" x=\"264.5\" y=\"-112.8\" font-family=\"Times,serif\" font-size=\"14.00\" fill=\"#000000\">0.0, 0.0, 0.0, 0.0, 0.0, 0.0, 0.0, 0.0, 0.0, 0.0</text>\n<text text-anchor=\"middle\" x=\"264.5\" y=\"-97.8\" font-family=\"Times,serif\" font-size=\"14.00\" fill=\"#000000\">0.0, 0.0, 0.0, 0.0, 0.0, 0.0, 0.0, 0.0, 0.0, 0.0</text>\n<text text-anchor=\"middle\" x=\"264.5\" y=\"-82.8\" font-family=\"Times,serif\" font-size=\"14.00\" fill=\"#000000\">0.0, 0.0, 0.0, 0.0, 0.0, 0.0, 0.0, 0.0, 0.0, 0.0</text>\n<text text-anchor=\"middle\" x=\"264.5\" y=\"-67.8\" font-family=\"Times,serif\" font-size=\"14.00\" fill=\"#000000\">0.0, 0.0, 0.0, 0.0, 0.0, 0.0]</text>\n<text text-anchor=\"middle\" x=\"264.5\" y=\"-52.8\" font-family=\"Times,serif\" font-size=\"14.00\" fill=\"#000000\">class = no income group available</text>\n</g>\n<!-- 3&#45;&gt;4 -->\n<g id=\"edge4\" class=\"edge\">\n<title>3&#45;&gt;4</title>\n<path fill=\"none\" stroke=\"#000000\" d=\"M343.4997,-576.1115C334.817,-540.4342 325.8394,-503.5451 317.1881,-467.9966\"/>\n<polygon fill=\"#000000\" stroke=\"#000000\" points=\"320.5226,-466.8966 314.7572,-458.0078 313.7211,-468.5519 320.5226,-466.8966\"/>\n</g>\n<!-- 5 -->\n<g id=\"node6\" class=\"node\">\n<title>5</title>\n<polygon fill=\"#ffffff\" stroke=\"#000000\" points=\"797,-465.5 444,-465.5 444,-37.5 797,-37.5 797,-465.5\"/>\n<text text-anchor=\"middle\" x=\"620.5\" y=\"-450.3\" font-family=\"Times,serif\" font-size=\"14.00\" fill=\"#000000\">samples = 17.1%</text>\n<text text-anchor=\"middle\" x=\"620.5\" y=\"-435.3\" font-family=\"Times,serif\" font-size=\"14.00\" fill=\"#000000\">value = [0.0, 0.024, 0.0, 0.0, 0.0, 0.0, 0.0, 0.0, 0.0, 0.024</text>\n<text text-anchor=\"middle\" x=\"620.5\" y=\"-420.3\" font-family=\"Times,serif\" font-size=\"14.00\" fill=\"#000000\">0.024, 0.0, 0.024, 0.0, 0.0, 0.0, 0.0, 0.0, 0.0, 0.0</text>\n<text text-anchor=\"middle\" x=\"620.5\" y=\"-405.3\" font-family=\"Times,serif\" font-size=\"14.00\" fill=\"#000000\">0.0, 0.0, 0.0, 0.0, 0.0, 0.0, 0.0, 0.0, 0.0, 0.0</text>\n<text text-anchor=\"middle\" x=\"620.5\" y=\"-390.3\" font-family=\"Times,serif\" font-size=\"14.00\" fill=\"#000000\">0.0, 0.0, 0.0, 0.0, 0.0, 0.0, 0.024, 0.0, 0.024</text>\n<text text-anchor=\"middle\" x=\"620.5\" y=\"-375.3\" font-family=\"Times,serif\" font-size=\"14.00\" fill=\"#000000\">0.024, 0.0, 0.0, 0.0, 0.0, 0.0, 0.0, 0.0, 0.0, 0.0</text>\n<text text-anchor=\"middle\" x=\"620.5\" y=\"-360.3\" font-family=\"Times,serif\" font-size=\"14.00\" fill=\"#000000\">0.0, 0.0, 0.0, 0.0, 0.0, 0.0, 0.0, 0.0, 0.0, 0.024</text>\n<text text-anchor=\"middle\" x=\"620.5\" y=\"-345.3\" font-family=\"Times,serif\" font-size=\"14.00\" fill=\"#000000\">0.024, 0.024, 0.024, 0.0, 0.0, 0.0, 0.0, 0.0, 0.0</text>\n<text text-anchor=\"middle\" x=\"620.5\" y=\"-330.3\" font-family=\"Times,serif\" font-size=\"14.00\" fill=\"#000000\">0.0, 0.024, 0.024, 0.024, 0.0, 0.0, 0.0, 0.0, 0.0</text>\n<text text-anchor=\"middle\" x=\"620.5\" y=\"-315.3\" font-family=\"Times,serif\" font-size=\"14.00\" fill=\"#000000\">0.0, 0.0, 0.0, 0.0, 0.0, 0.0, 0.0, 0.0, 0.0, 0.0</text>\n<text text-anchor=\"middle\" x=\"620.5\" y=\"-300.3\" font-family=\"Times,serif\" font-size=\"14.00\" fill=\"#000000\">0.0, 0.0, 0.0, 0.0, 0.024, 0.0, 0.0, 0.0, 0.0, 0.0</text>\n<text text-anchor=\"middle\" x=\"620.5\" y=\"-285.3\" font-family=\"Times,serif\" font-size=\"14.00\" fill=\"#000000\">0.0, 0.0, 0.0, 0.0, 0.0, 0.0, 0.0, 0.0, 0.0, 0.0</text>\n<text text-anchor=\"middle\" x=\"620.5\" y=\"-270.3\" font-family=\"Times,serif\" font-size=\"14.00\" fill=\"#000000\">0.0, 0.0, 0.0, 0.0, 0.024, 0.0, 0.024, 0.0, 0.024</text>\n<text text-anchor=\"middle\" x=\"620.5\" y=\"-255.3\" font-family=\"Times,serif\" font-size=\"14.00\" fill=\"#000000\">0.0, 0.0, 0.024, 0.024, 0.024, 0.0, 0.0, 0.0, 0.024</text>\n<text text-anchor=\"middle\" x=\"620.5\" y=\"-240.3\" font-family=\"Times,serif\" font-size=\"14.00\" fill=\"#000000\">0.024, 0.0, 0.0, 0.0, 0.0, 0.0, 0.0, 0.0, 0.0, 0.0</text>\n<text text-anchor=\"middle\" x=\"620.5\" y=\"-225.3\" font-family=\"Times,serif\" font-size=\"14.00\" fill=\"#000000\">0.0, 0.0, 0.0, 0.0, 0.0, 0.0, 0.0, 0.024, 0.024, 0.0</text>\n<text text-anchor=\"middle\" x=\"620.5\" y=\"-210.3\" font-family=\"Times,serif\" font-size=\"14.00\" fill=\"#000000\">0.0, 0.0, 0.024, 0.0, 0.0, 0.0, 0.0, 0.0, 0.0, 0.0</text>\n<text text-anchor=\"middle\" x=\"620.5\" y=\"-195.3\" font-family=\"Times,serif\" font-size=\"14.00\" fill=\"#000000\">0.0, 0.0, 0.0, 0.0, 0.0, 0.0, 0.024, 0.024, 0.024</text>\n<text text-anchor=\"middle\" x=\"620.5\" y=\"-180.3\" font-family=\"Times,serif\" font-size=\"14.00\" fill=\"#000000\">0.024, 0.0, 0.024, 0.024, 0.0, 0.0, 0.0, 0.0, 0.0</text>\n<text text-anchor=\"middle\" x=\"620.5\" y=\"-165.3\" font-family=\"Times,serif\" font-size=\"14.00\" fill=\"#000000\">0.0, 0.0, 0.0, 0.0, 0.0, 0.0, 0.0, 0.0, 0.0, 0.0</text>\n<text text-anchor=\"middle\" x=\"620.5\" y=\"-150.3\" font-family=\"Times,serif\" font-size=\"14.00\" fill=\"#000000\">0.0, 0.0, 0.0, 0.0, 0.0, 0.0, 0.0, 0.0, 0.0, 0.0</text>\n<text text-anchor=\"middle\" x=\"620.5\" y=\"-135.3\" font-family=\"Times,serif\" font-size=\"14.00\" fill=\"#000000\">0.0, 0.0, 0.0, 0.024, 0.0, 0.0, 0.0, 0.024, 0.024</text>\n<text text-anchor=\"middle\" x=\"620.5\" y=\"-120.3\" font-family=\"Times,serif\" font-size=\"14.00\" fill=\"#000000\">0.0, 0.0, 0.024, 0.024, 0.024, 0.0, 0.0, 0.024, 0.0</text>\n<text text-anchor=\"middle\" x=\"620.5\" y=\"-105.3\" font-family=\"Times,serif\" font-size=\"14.00\" fill=\"#000000\">0.0, 0.0, 0.0, 0.0, 0.0, 0.0, 0.0, 0.0, 0.0, 0.0</text>\n<text text-anchor=\"middle\" x=\"620.5\" y=\"-90.3\" font-family=\"Times,serif\" font-size=\"14.00\" fill=\"#000000\">0.0, 0.0, 0.0, 0.0, 0.0, 0.0, 0.0, 0.0, 0.0, 0.0</text>\n<text text-anchor=\"middle\" x=\"620.5\" y=\"-75.3\" font-family=\"Times,serif\" font-size=\"14.00\" fill=\"#000000\">0.0, 0.0, 0.024, 0.0, 0.0, 0.0, 0.0, 0.0, 0.024</text>\n<text text-anchor=\"middle\" x=\"620.5\" y=\"-60.3\" font-family=\"Times,serif\" font-size=\"14.00\" fill=\"#000000\">0.024, 0.0, 0.0, 0.0, 0.0, 0.0]</text>\n<text text-anchor=\"middle\" x=\"620.5\" y=\"-45.3\" font-family=\"Times,serif\" font-size=\"14.00\" fill=\"#000000\">class = africa</text>\n</g>\n<!-- 3&#45;&gt;5 -->\n<g id=\"edge5\" class=\"edge\">\n<title>3&#45;&gt;5</title>\n<path fill=\"none\" stroke=\"#000000\" d=\"M488.0419,-576.1115C501.6074,-542.8668 515.6024,-508.5698 529.1839,-475.2858\"/>\n<polygon fill=\"#000000\" stroke=\"#000000\" points=\"532.4654,-476.5078 533.003,-465.9266 525.9842,-473.8631 532.4654,-476.5078\"/>\n</g>\n<!-- 7 -->\n<g id=\"node8\" class=\"node\">\n<title>7</title>\n<polygon fill=\"#ffffff\" stroke=\"#000000\" points=\"1288.5,-503 928.5,-503 928.5,0 1288.5,0 1288.5,-503\"/>\n<text text-anchor=\"middle\" x=\"1108.5\" y=\"-487.8\" font-family=\"Times,serif\" font-size=\"14.00\" fill=\"#000000\">samples = 80.9%</text>\n<text text-anchor=\"middle\" x=\"1108.5\" y=\"-472.8\" font-family=\"Times,serif\" font-size=\"14.00\" fill=\"#000000\">value = [0.0, 0.0, 0.005, 0.005, 0.005, 0.005, 0.005, 0.005</text>\n<text text-anchor=\"middle\" x=\"1108.5\" y=\"-457.8\" font-family=\"Times,serif\" font-size=\"14.00\" fill=\"#000000\">0.005, 0.0, 0.0, 0.005, 0.0, 0.005, 0.005, 0.005</text>\n<text text-anchor=\"middle\" x=\"1108.5\" y=\"-442.8\" font-family=\"Times,serif\" font-size=\"14.00\" fill=\"#000000\">0.005, 0.005, 0.005, 0.005, 0.005, 0.005, 0.005, 0.005</text>\n<text text-anchor=\"middle\" x=\"1108.5\" y=\"-427.8\" font-family=\"Times,serif\" font-size=\"14.00\" fill=\"#000000\">0.005, 0.005, 0.005, 0.005, 0.005, 0.005, 0.005, 0.005</text>\n<text text-anchor=\"middle\" x=\"1108.5\" y=\"-412.8\" font-family=\"Times,serif\" font-size=\"14.00\" fill=\"#000000\">0.005, 0.005, 0.005, 0.005, 0.0, 0.005, 0.0, 0.0</text>\n<text text-anchor=\"middle\" x=\"1108.5\" y=\"-397.8\" font-family=\"Times,serif\" font-size=\"14.00\" fill=\"#000000\">0.005, 0.005, 0.005, 0.0, 0.005, 0.005, 0.005, 0.005</text>\n<text text-anchor=\"middle\" x=\"1108.5\" y=\"-382.8\" font-family=\"Times,serif\" font-size=\"14.00\" fill=\"#000000\">0.005, 0.005, 0.005, 0.005, 0.005, 0.005, 0.005, 0.005</text>\n<text text-anchor=\"middle\" x=\"1108.5\" y=\"-367.8\" font-family=\"Times,serif\" font-size=\"14.00\" fill=\"#000000\">0.005, 0.005, 0.0, 0.0, 0.0, 0.0, 0.005, 0.005, 0.005</text>\n<text text-anchor=\"middle\" x=\"1108.5\" y=\"-352.8\" font-family=\"Times,serif\" font-size=\"14.00\" fill=\"#000000\">0.005, 0.005, 0.005, 0.005, 0.0, 0.0, 0.0, 0.005</text>\n<text text-anchor=\"middle\" x=\"1108.5\" y=\"-337.8\" font-family=\"Times,serif\" font-size=\"14.00\" fill=\"#000000\">0.005, 0.005, 0.005, 0.005, 0.005, 0.005, 0.005, 0.005</text>\n<text text-anchor=\"middle\" x=\"1108.5\" y=\"-322.8\" font-family=\"Times,serif\" font-size=\"14.00\" fill=\"#000000\">0.005, 0.005, 0.005, 0.005, 0.005, 0.005, 0.005, 0.005</text>\n<text text-anchor=\"middle\" x=\"1108.5\" y=\"-307.8\" font-family=\"Times,serif\" font-size=\"14.00\" fill=\"#000000\">0.005, 0.005, 0.0, 0.005, 0.005, 0.005, 0.005, 0.0</text>\n<text text-anchor=\"middle\" x=\"1108.5\" y=\"-292.8\" font-family=\"Times,serif\" font-size=\"14.00\" fill=\"#000000\">0.005, 0.005, 0.005, 0.005, 0.005, 0.005, 0.005, 0.005</text>\n<text text-anchor=\"middle\" x=\"1108.5\" y=\"-277.8\" font-family=\"Times,serif\" font-size=\"14.00\" fill=\"#000000\">0.005, 0.005, 0.005, 0.005, 0.005, 0.005, 0.0, 0.005</text>\n<text text-anchor=\"middle\" x=\"1108.5\" y=\"-262.8\" font-family=\"Times,serif\" font-size=\"14.00\" fill=\"#000000\">0.0, 0.005, 0.0, 0.005, 0.005, 0.0, 0.0, 0.0, 0.005</text>\n<text text-anchor=\"middle\" x=\"1108.5\" y=\"-247.8\" font-family=\"Times,serif\" font-size=\"14.00\" fill=\"#000000\">0.005, 0.005, 0.0, 0.0, 0.005, 0.005, 0.005, 0.005</text>\n<text text-anchor=\"middle\" x=\"1108.5\" y=\"-232.8\" font-family=\"Times,serif\" font-size=\"14.00\" fill=\"#000000\">0.005, 0.005, 0.005, 0.005, 0.005, 0.005, 0.005, 0.005</text>\n<text text-anchor=\"middle\" x=\"1108.5\" y=\"-217.8\" font-family=\"Times,serif\" font-size=\"14.00\" fill=\"#000000\">0.005, 0.005, 0.005, 0.005, 0.0, 0.0, 0.005, 0.005</text>\n<text text-anchor=\"middle\" x=\"1108.5\" y=\"-202.8\" font-family=\"Times,serif\" font-size=\"14.00\" fill=\"#000000\">0.005, 0.0, 0.005, 0.005, 0.005, 0.005, 0.005, 0.005</text>\n<text text-anchor=\"middle\" x=\"1108.5\" y=\"-187.8\" font-family=\"Times,serif\" font-size=\"14.00\" fill=\"#000000\">0.005, 0.005, 0.005, 0.005, 0.005, 0.0, 0.005, 0.0</text>\n<text text-anchor=\"middle\" x=\"1108.5\" y=\"-172.8\" font-family=\"Times,serif\" font-size=\"14.00\" fill=\"#000000\">0.0, 0.0, 0.0, 0.005, 0.0, 0.0, 0.005, 0.005, 0.005</text>\n<text text-anchor=\"middle\" x=\"1108.5\" y=\"-157.8\" font-family=\"Times,serif\" font-size=\"14.00\" fill=\"#000000\">0.005, 0.005, 0.005, 0.005, 0.005, 0.005, 0.005, 0.005</text>\n<text text-anchor=\"middle\" x=\"1108.5\" y=\"-142.8\" font-family=\"Times,serif\" font-size=\"14.00\" fill=\"#000000\">0.005, 0.005, 0.005, 0.005, 0.005, 0.005, 0.005, 0.005</text>\n<text text-anchor=\"middle\" x=\"1108.5\" y=\"-127.8\" font-family=\"Times,serif\" font-size=\"14.00\" fill=\"#000000\">0.005, 0.005, 0.005, 0.005, 0.005, 0.005, 0.005, 0.005</text>\n<text text-anchor=\"middle\" x=\"1108.5\" y=\"-112.8\" font-family=\"Times,serif\" font-size=\"14.00\" fill=\"#000000\">0.005, 0.0, 0.005, 0.005, 0.005, 0.0, 0.0, 0.005</text>\n<text text-anchor=\"middle\" x=\"1108.5\" y=\"-97.8\" font-family=\"Times,serif\" font-size=\"14.00\" fill=\"#000000\">0.005, 0.0, 0.0, 0.0, 0.005, 0.005, 0.0, 0.005, 0.005</text>\n<text text-anchor=\"middle\" x=\"1108.5\" y=\"-82.8\" font-family=\"Times,serif\" font-size=\"14.00\" fill=\"#000000\">0.005, 0.005, 0.005, 0.005, 0.005, 0.005, 0.005, 0.005</text>\n<text text-anchor=\"middle\" x=\"1108.5\" y=\"-67.8\" font-family=\"Times,serif\" font-size=\"14.00\" fill=\"#000000\">0.005, 0.005, 0.005, 0.005, 0.005, 0.005, 0.005, 0.005</text>\n<text text-anchor=\"middle\" x=\"1108.5\" y=\"-52.8\" font-family=\"Times,serif\" font-size=\"14.00\" fill=\"#000000\">0.005, 0.005, 0.005, 0.005, 0.005, 0.0, 0.005, 0.005</text>\n<text text-anchor=\"middle\" x=\"1108.5\" y=\"-37.8\" font-family=\"Times,serif\" font-size=\"14.00\" fill=\"#000000\">0.005, 0.005, 0.005, 0.0, 0.0, 0.005, 0.0, 0.005</text>\n<text text-anchor=\"middle\" x=\"1108.5\" y=\"-22.8\" font-family=\"Times,serif\" font-size=\"14.00\" fill=\"#000000\">0.005, 0.005]</text>\n<text text-anchor=\"middle\" x=\"1108.5\" y=\"-7.8\" font-family=\"Times,serif\" font-size=\"14.00\" fill=\"#000000\">class = albania</text>\n</g>\n<!-- 6&#45;&gt;7 -->\n<g id=\"edge7\" class=\"edge\">\n<title>6&#45;&gt;7</title>\n<path fill=\"none\" stroke=\"#000000\" d=\"M1167.8956,-538.7539C1166.1341,-530.2348 1164.3688,-521.6975 1162.6067,-513.1752\"/>\n<polygon fill=\"#000000\" stroke=\"#000000\" points=\"1165.9923,-512.2638 1160.5399,-503.1797 1159.1374,-513.6813 1165.9923,-512.2638\"/>\n</g>\n<!-- 8 -->\n<g id=\"node9\" class=\"node\">\n<title>8</title>\n<polygon fill=\"#ffffff\" stroke=\"#000000\" points=\"1630,-458 1307,-458 1307,-45 1630,-45 1630,-458\"/>\n<text text-anchor=\"middle\" x=\"1468.5\" y=\"-442.8\" font-family=\"Times,serif\" font-size=\"14.00\" fill=\"#000000\">samples = 1.2%</text>\n<text text-anchor=\"middle\" x=\"1468.5\" y=\"-427.8\" font-family=\"Times,serif\" font-size=\"14.00\" fill=\"#000000\">value = [0.0, 0.0, 0.0, 0.0, 0.0, 0.0, 0.0, 0.0, 0.0, 0.0</text>\n<text text-anchor=\"middle\" x=\"1468.5\" y=\"-412.8\" font-family=\"Times,serif\" font-size=\"14.00\" fill=\"#000000\">0.0, 0.0, 0.0, 0.0, 0.0, 0.0, 0.0, 0.0, 0.0, 0.0</text>\n<text text-anchor=\"middle\" x=\"1468.5\" y=\"-397.8\" font-family=\"Times,serif\" font-size=\"14.00\" fill=\"#000000\">0.0, 0.0, 0.0, 0.0, 0.0, 0.0, 0.0, 0.0, 0.0, 0.0</text>\n<text text-anchor=\"middle\" x=\"1468.5\" y=\"-382.8\" font-family=\"Times,serif\" font-size=\"14.00\" fill=\"#000000\">0.0, 0.0, 0.0, 0.0, 0.0, 0.0, 0.0, 0.0, 0.0, 0.0</text>\n<text text-anchor=\"middle\" x=\"1468.5\" y=\"-367.8\" font-family=\"Times,serif\" font-size=\"14.00\" fill=\"#000000\">0.0, 0.0, 0.0, 0.333, 0.0, 0.0, 0.0, 0.0, 0.0, 0.0</text>\n<text text-anchor=\"middle\" x=\"1468.5\" y=\"-352.8\" font-family=\"Times,serif\" font-size=\"14.00\" fill=\"#000000\">0.0, 0.0, 0.0, 0.0, 0.0, 0.0, 0.0, 0.0, 0.0, 0.0</text>\n<text text-anchor=\"middle\" x=\"1468.5\" y=\"-337.8\" font-family=\"Times,serif\" font-size=\"14.00\" fill=\"#000000\">0.0, 0.0, 0.0, 0.0, 0.0, 0.0, 0.0, 0.0, 0.0, 0.0</text>\n<text text-anchor=\"middle\" x=\"1468.5\" y=\"-322.8\" font-family=\"Times,serif\" font-size=\"14.00\" fill=\"#000000\">0.0, 0.0, 0.0, 0.0, 0.0, 0.0, 0.0, 0.0, 0.0, 0.0</text>\n<text text-anchor=\"middle\" x=\"1468.5\" y=\"-307.8\" font-family=\"Times,serif\" font-size=\"14.00\" fill=\"#000000\">0.0, 0.0, 0.0, 0.0, 0.0, 0.0, 0.0, 0.0, 0.0, 0.0</text>\n<text text-anchor=\"middle\" x=\"1468.5\" y=\"-292.8\" font-family=\"Times,serif\" font-size=\"14.00\" fill=\"#000000\">0.0, 0.0, 0.0, 0.0, 0.0, 0.0, 0.333, 0.0, 0.0, 0.0</text>\n<text text-anchor=\"middle\" x=\"1468.5\" y=\"-277.8\" font-family=\"Times,serif\" font-size=\"14.00\" fill=\"#000000\">0.0, 0.0, 0.0, 0.0, 0.0, 0.0, 0.0, 0.0, 0.0, 0.0</text>\n<text text-anchor=\"middle\" x=\"1468.5\" y=\"-262.8\" font-family=\"Times,serif\" font-size=\"14.00\" fill=\"#000000\">0.0, 0.0, 0.0, 0.0, 0.0, 0.0, 0.0, 0.0, 0.0, 0.0</text>\n<text text-anchor=\"middle\" x=\"1468.5\" y=\"-247.8\" font-family=\"Times,serif\" font-size=\"14.00\" fill=\"#000000\">0.0, 0.0, 0.0, 0.0, 0.0, 0.0, 0.0, 0.0, 0.0, 0.0</text>\n<text text-anchor=\"middle\" x=\"1468.5\" y=\"-232.8\" font-family=\"Times,serif\" font-size=\"14.00\" fill=\"#000000\">0.0, 0.0, 0.0, 0.0, 0.0, 0.0, 0.0, 0.0, 0.0, 0.0</text>\n<text text-anchor=\"middle\" x=\"1468.5\" y=\"-217.8\" font-family=\"Times,serif\" font-size=\"14.00\" fill=\"#000000\">0.0, 0.0, 0.0, 0.0, 0.0, 0.0, 0.0, 0.0, 0.0, 0.0</text>\n<text text-anchor=\"middle\" x=\"1468.5\" y=\"-202.8\" font-family=\"Times,serif\" font-size=\"14.00\" fill=\"#000000\">0.0, 0.0, 0.0, 0.0, 0.0, 0.0, 0.0, 0.0, 0.0, 0.0</text>\n<text text-anchor=\"middle\" x=\"1468.5\" y=\"-187.8\" font-family=\"Times,serif\" font-size=\"14.00\" fill=\"#000000\">0.0, 0.0, 0.0, 0.0, 0.0, 0.0, 0.0, 0.0, 0.0, 0.0</text>\n<text text-anchor=\"middle\" x=\"1468.5\" y=\"-172.8\" font-family=\"Times,serif\" font-size=\"14.00\" fill=\"#000000\">0.0, 0.0, 0.0, 0.0, 0.0, 0.0, 0.0, 0.0, 0.0, 0.0</text>\n<text text-anchor=\"middle\" x=\"1468.5\" y=\"-157.8\" font-family=\"Times,serif\" font-size=\"14.00\" fill=\"#000000\">0.0, 0.0, 0.0, 0.0, 0.0, 0.0, 0.0, 0.0, 0.0, 0.0</text>\n<text text-anchor=\"middle\" x=\"1468.5\" y=\"-142.8\" font-family=\"Times,serif\" font-size=\"14.00\" fill=\"#000000\">0.0, 0.0, 0.0, 0.0, 0.0, 0.0, 0.0, 0.0, 0.0, 0.0</text>\n<text text-anchor=\"middle\" x=\"1468.5\" y=\"-127.8\" font-family=\"Times,serif\" font-size=\"14.00\" fill=\"#000000\">0.0, 0.0, 0.0, 0.0, 0.0, 0.0, 0.0, 0.0, 0.0, 0.0</text>\n<text text-anchor=\"middle\" x=\"1468.5\" y=\"-112.8\" font-family=\"Times,serif\" font-size=\"14.00\" fill=\"#000000\">0.0, 0.0, 0.0, 0.0, 0.0, 0.0, 0.0, 0.0, 0.0, 0.0</text>\n<text text-anchor=\"middle\" x=\"1468.5\" y=\"-97.8\" font-family=\"Times,serif\" font-size=\"14.00\" fill=\"#000000\">0.0, 0.0, 0.0, 0.0, 0.0, 0.0, 0.0, 0.0, 0.0, 0.0</text>\n<text text-anchor=\"middle\" x=\"1468.5\" y=\"-82.8\" font-family=\"Times,serif\" font-size=\"14.00\" fill=\"#000000\">0.0, 0.0, 0.0, 0.0, 0.0, 0.0, 0.0, 0.0, 0.0, 0.0</text>\n<text text-anchor=\"middle\" x=\"1468.5\" y=\"-67.8\" font-family=\"Times,serif\" font-size=\"14.00\" fill=\"#000000\">0.0, 0.0, 0.333, 0.0, 0.0, 0.0]</text>\n<text text-anchor=\"middle\" x=\"1468.5\" y=\"-52.8\" font-family=\"Times,serif\" font-size=\"14.00\" fill=\"#000000\">class = china</text>\n</g>\n<!-- 6&#45;&gt;8 -->\n<g id=\"edge8\" class=\"edge\">\n<title>6&#45;&gt;8</title>\n<path fill=\"none\" stroke=\"#000000\" d=\"M1338.6707,-538.7539C1349.449,-514.9064 1360.2917,-490.9163 1370.8694,-467.5127\"/>\n<polygon fill=\"#000000\" stroke=\"#000000\" points=\"1374.1377,-468.7794 1375.0669,-458.2254 1367.759,-465.8964 1374.1377,-468.7794\"/>\n</g>\n</g>\n</svg>\n"
          },
          "metadata": {
            "tags": []
          },
          "execution_count": 34
        }
      ]
    },
    {
      "cell_type": "code",
      "metadata": {
        "colab": {
          "base_uri": "https://localhost:8080/"
        },
        "id": "BoAOCXCYRvEY",
        "outputId": "958b5dde-35d1-417e-eca6-fc201836b33c"
      },
      "source": [
        "y.value_counts(normalize = True)"
      ],
      "execution_count": 35,
      "outputs": [
        {
          "output_type": "execute_result",
          "data": {
            "text/plain": [
              "False    0.520382\n",
              "True     0.479618\n",
              "Name: Estimates, dtype: float64"
            ]
          },
          "metadata": {
            "tags": []
          },
          "execution_count": 35
        }
      ]
    },
    {
      "cell_type": "code",
      "metadata": {
        "colab": {
          "base_uri": "https://localhost:8080/"
        },
        "id": "XfTSit2RUvCD",
        "outputId": "8aa34f6f-362b-4eab-bc85-e663718a9538"
      },
      "source": [
        "features = train.columns.drop([target, 'Year','Entity'])\r\n",
        "X_train = train[features]\r\n",
        "X_val = val[features]\r\n",
        "\r\n",
        "pipeline = make_pipeline(\r\n",
        "    cre.OrdinalEncoder(),\r\n",
        "    DecisionTreeClassifier(max_depth = 3)\r\n",
        "\r\n",
        ")\r\n",
        "pipeline.fit(X_train,y_train)\r\n",
        "print('Validation Accuracy', pipeline.score(X_val, y_val))"
      ],
      "execution_count": 36,
      "outputs": [
        {
          "output_type": "stream",
          "text": [
            "Validation Accuracy 0.02032520325203252\n"
          ],
          "name": "stdout"
        }
      ]
    },
    {
      "cell_type": "code",
      "metadata": {
        "colab": {
          "base_uri": "https://localhost:8080/",
          "height": 363
        },
        "id": "GqxcThpFR31u",
        "outputId": "31b9c716-b81f-4501-dea7-099c7dbd3e1b"
      },
      "source": [
        "from sklearn.metrics import roc_auc_score\r\n",
        "y_pred_proba = pipeline.predict_proba(X_val)[:,-1]\r\n",
        "\r\n",
        "roc_auc_score(y_val, y_pred_proba)\r\n",
        "#This is an example of regrssion example because we are observing Extimate values, or continous values"
      ],
      "execution_count": 38,
      "outputs": [
        {
          "output_type": "error",
          "ename": "ValueError",
          "evalue": "ignored",
          "traceback": [
            "\u001b[0;31m---------------------------------------------------------------------------\u001b[0m",
            "\u001b[0;31mValueError\u001b[0m                                Traceback (most recent call last)",
            "\u001b[0;32m<ipython-input-38-e549c036c93c>\u001b[0m in \u001b[0;36m<module>\u001b[0;34m()\u001b[0m\n\u001b[1;32m      2\u001b[0m \u001b[0my_pred_proba\u001b[0m \u001b[0;34m=\u001b[0m \u001b[0mpipeline\u001b[0m\u001b[0;34m.\u001b[0m\u001b[0mpredict_proba\u001b[0m\u001b[0;34m(\u001b[0m\u001b[0mX_val\u001b[0m\u001b[0;34m)\u001b[0m\u001b[0;34m[\u001b[0m\u001b[0;34m:\u001b[0m\u001b[0;34m,\u001b[0m\u001b[0;34m-\u001b[0m\u001b[0;36m1\u001b[0m\u001b[0;34m]\u001b[0m\u001b[0;34m\u001b[0m\u001b[0;34m\u001b[0m\u001b[0m\n\u001b[1;32m      3\u001b[0m \u001b[0;34m\u001b[0m\u001b[0m\n\u001b[0;32m----> 4\u001b[0;31m \u001b[0mroc_auc_score\u001b[0m\u001b[0;34m(\u001b[0m\u001b[0my_val\u001b[0m\u001b[0;34m,\u001b[0m \u001b[0my_pred_proba\u001b[0m\u001b[0;34m)\u001b[0m\u001b[0;34m\u001b[0m\u001b[0;34m\u001b[0m\u001b[0m\n\u001b[0m\u001b[1;32m      5\u001b[0m \u001b[0;31m#This is an example of regrssion example because we are observing Extimate values, or continous values\u001b[0m\u001b[0;34m\u001b[0m\u001b[0;34m\u001b[0m\u001b[0;34m\u001b[0m\u001b[0m\n",
            "\u001b[0;32m/usr/local/lib/python3.6/dist-packages/sklearn/metrics/_ranking.py\u001b[0m in \u001b[0;36mroc_auc_score\u001b[0;34m(y_true, y_score, average, sample_weight, max_fpr, multi_class, labels)\u001b[0m\n\u001b[1;32m    379\u001b[0m                              \"instead\".format(max_fpr))\n\u001b[1;32m    380\u001b[0m         \u001b[0;32mif\u001b[0m \u001b[0mmulti_class\u001b[0m \u001b[0;34m==\u001b[0m \u001b[0;34m'raise'\u001b[0m\u001b[0;34m:\u001b[0m\u001b[0;34m\u001b[0m\u001b[0;34m\u001b[0m\u001b[0m\n\u001b[0;32m--> 381\u001b[0;31m             \u001b[0;32mraise\u001b[0m \u001b[0mValueError\u001b[0m\u001b[0;34m(\u001b[0m\u001b[0;34m\"multi_class must be in ('ovo', 'ovr')\"\u001b[0m\u001b[0;34m)\u001b[0m\u001b[0;34m\u001b[0m\u001b[0;34m\u001b[0m\u001b[0m\n\u001b[0m\u001b[1;32m    382\u001b[0m         return _multiclass_roc_auc_score(y_true, y_score, labels,\n\u001b[1;32m    383\u001b[0m                                          multi_class, average, sample_weight)\n",
            "\u001b[0;31mValueError\u001b[0m: multi_class must be in ('ovo', 'ovr')"
          ]
        }
      ]
    },
    {
      "cell_type": "code",
      "metadata": {
        "id": "TrrD1iGGVoXy"
      },
      "source": [
        ""
      ],
      "execution_count": null,
      "outputs": []
    },
    {
      "cell_type": "code",
      "metadata": {
        "id": "Hi18SBfkVjYS"
      },
      "source": [
        "y = df['Estimates']\r\n",
        "# a regression Plot"
      ],
      "execution_count": 39,
      "outputs": []
    },
    {
      "cell_type": "code",
      "metadata": {
        "colab": {
          "base_uri": "https://localhost:8080/",
          "height": 353
        },
        "id": "fDLZbBHmVswX",
        "outputId": "035d65ef-04c8-460f-c563-62601ba4a98c"
      },
      "source": [
        "import seaborn as sns\r\n",
        "sns.distplot(y)"
      ],
      "execution_count": 40,
      "outputs": [
        {
          "output_type": "stream",
          "text": [
            "/usr/local/lib/python3.6/dist-packages/seaborn/distributions.py:2557: FutureWarning: `distplot` is a deprecated function and will be removed in a future version. Please adapt your code to use either `displot` (a figure-level function with similar flexibility) or `histplot` (an axes-level function for histograms).\n",
            "  warnings.warn(msg, FutureWarning)\n"
          ],
          "name": "stderr"
        },
        {
          "output_type": "execute_result",
          "data": {
            "text/plain": [
              "<matplotlib.axes._subplots.AxesSubplot at 0x7eff6c54f3c8>"
            ]
          },
          "metadata": {
            "tags": []
          },
          "execution_count": 40
        },
        {
          "output_type": "display_data",
          "data": {
            "image/png": "[encoded data removed]",
            "text/plain": [
              "<Figure size 432x288 with 1 Axes>"
            ]
          },
          "metadata": {
            "tags": [],
            "needs_background": "light"
          }
        }
      ]
    },
    {
      "cell_type": "code",
      "metadata": {
        "colab": {
          "base_uri": "https://localhost:8080/"
        },
        "id": "TdX6PA_sV4iC",
        "outputId": "88e2913b-cb5a-4049-aa46-c1bcc6c4b679"
      },
      "source": [
        "y.describe()"
      ],
      "execution_count": 41,
      "outputs": [
        {
          "output_type": "execute_result",
          "data": {
            "text/plain": [
              "count     17466\n",
              "unique        2\n",
              "top       False\n",
              "freq       9089\n",
              "Name: Estimates, dtype: object"
            ]
          },
          "metadata": {
            "tags": []
          },
          "execution_count": 41
        }
      ]
    },
    {
      "cell_type": "code",
      "metadata": {
        "id": "cgIs7FhdWEKo"
      },
      "source": [
        "import numpy as numy\r\n",
        "\r\n",
        "df = df[(df['Estimates'] >= numy.percentile(df['Estimates'], 0.5)) &\r\n",
        "        (df['Estimates'] <= numy.percentile(df['Estimates'], 99.5))]"
      ],
      "execution_count": 42,
      "outputs": []
    },
    {
      "cell_type": "code",
      "metadata": {
        "colab": {
          "base_uri": "https://localhost:8080/",
          "height": 353
        },
        "id": "8lh_W9_XYJOZ",
        "outputId": "203e1d60-e268-49e0-a33e-665b45aaca6b"
      },
      "source": [
        "y = df['Estimates']\r\n",
        "sns.distplot(y)"
      ],
      "execution_count": 43,
      "outputs": [
        {
          "output_type": "stream",
          "text": [
            "/usr/local/lib/python3.6/dist-packages/seaborn/distributions.py:2557: FutureWarning: `distplot` is a deprecated function and will be removed in a future version. Please adapt your code to use either `displot` (a figure-level function with similar flexibility) or `histplot` (an axes-level function for histograms).\n",
            "  warnings.warn(msg, FutureWarning)\n"
          ],
          "name": "stderr"
        },
        {
          "output_type": "execute_result",
          "data": {
            "text/plain": [
              "<matplotlib.axes._subplots.AxesSubplot at 0x7eff76bc6b70>"
            ]
          },
          "metadata": {
            "tags": []
          },
          "execution_count": 43
        },
        {
          "output_type": "display_data",
          "data": {
            "image/png": "[encoded data removed]",
            "text/plain": [
              "<Figure size 432x288 with 1 Axes>"
            ]
          },
          "metadata": {
            "tags": [],
            "needs_background": "light"
          }
        }
      ]
    },
    {
      "cell_type": "code",
      "metadata": {
        "colab": {
          "base_uri": "https://localhost:8080/"
        },
        "id": "Ewf1U03DYSTS",
        "outputId": "d2b2b600-ae99-496c-9b23-ae1d03aec8b7"
      },
      "source": [
        "y.describe()"
      ],
      "execution_count": 44,
      "outputs": [
        {
          "output_type": "execute_result",
          "data": {
            "text/plain": [
              "count     17466\n",
              "unique        2\n",
              "top       False\n",
              "freq       9089\n",
              "Name: Estimates, dtype: object"
            ]
          },
          "metadata": {
            "tags": []
          },
          "execution_count": 44
        }
      ]
    }
  ]
}